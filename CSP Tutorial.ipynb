{
 "cells": [
  {
   "cell_type": "markdown",
   "metadata": {},
   "source": [
    "Focus: 1) Writing a tutorial, 2) collecting results, 3) running statistical analysis, 4) reporting the results in paper form. Stop: 3:30pm "
   ]
  },
  {
   "cell_type": "markdown",
   "metadata": {},
   "source": [
    "The goal of this tutorial is to explain in detail what CSP is doing and it is a good choice for EEG. This tutorial will investigate from scratch how CSP works and how the hyper parameters can change its results. To begin this tutorial we must load all the needed libraries."
   ]
  },
  {
   "cell_type": "code",
   "execution_count": 1,
   "metadata": {},
   "outputs": [],
   "source": [
    "# Load the data and explain the current dataset\n",
    "import mne\n",
    "import numpy as np\n",
    "from ulm_dataset import create_raw_data, create_event_array_for_movement_onset, filter_with_ica\n",
    "from mne.time_frequency import tfr_morlet, psd_multitaper\n",
    "from mne import Epochs, pick_types, concatenate_epochs, create_info\n",
    "event_id = dict(flex = 5000, extend = 5001, sup = 5002, pro = 5003, close = 5004, hopen = 5005, rest = 1542)"
   ]
  },
  {
   "cell_type": "markdown",
   "metadata": {},
   "source": [
    "We can then collect the data needed for one subject, specifically the first subject. The dataset used in this tutorial is one investigating user intent of upper extremity actions for motor execution. "
   ]
  },
  {
   "cell_type": "code",
   "execution_count": 2,
   "metadata": {
    "scrolled": true
   },
   "outputs": [
    {
     "name": "stdout",
     "output_type": "stream",
     "text": [
      "Extracting EDF parameters from datasets/S01_ME/motorexecution_subject1_run1.gdf...\n",
      "GDF file detected\n",
      "Overlapping events detected. Use find_edf_events for the original events.\n",
      "Setting channel info structure...\n",
      "Interpolating stim channel. Events may jitter.\n",
      "Creating raw.info structure...\n",
      "3 channel names are too long, have been truncated to 15 characters:\n",
      "['ShoulderAdductio', 'ShoulderFlexionE', 'ShoulderRotation']\n",
      "Channel names are not unique, found duplicates for: {'eeg'}. Applying running numbers for duplicates.\n"
     ]
    },
    {
     "name": "stderr",
     "output_type": "stream",
     "text": [
      "C:\\Users\\mschr\\AppData\\Local\\conda\\conda\\envs\\mne\\lib\\site-packages\\mne\\io\\edf\\edf.py:1028: DeprecationWarning: The binary mode of fromstring is deprecated, as it behaves surprisingly on unicode inputs. Use frombuffer instead\n",
      "  etmode = np.fromstring(etmode, np.uint8).tolist()[0]\n",
      "D:\\Datasets\\ulm_github\\ulm_dataset.py:37: RuntimeWarning: Overlapping events detected. Use find_edf_events for the original events.\n",
      "  raw = mne.io.read_raw_edf(file_location)\n",
      "D:\\Datasets\\ulm_github\\ulm_dataset.py:37: RuntimeWarning: Interpolating stim channel. Events may jitter.\n",
      "  raw = mne.io.read_raw_edf(file_location)\n",
      "D:\\Datasets\\ulm_github\\ulm_dataset.py:37: RuntimeWarning: 3 channel names are too long, have been truncated to 15 characters:\n",
      "['ShoulderAdductio', 'ShoulderFlexionE', 'ShoulderRotation']\n",
      "  raw = mne.io.read_raw_edf(file_location)\n",
      "D:\\Datasets\\ulm_github\\ulm_dataset.py:37: RuntimeWarning: Channel names are not unique, found duplicates for: {'eeg'}. Applying running numbers for duplicates.\n",
      "  raw = mne.io.read_raw_edf(file_location)\n"
     ]
    },
    {
     "name": "stdout",
     "output_type": "stream",
     "text": [
      "126 events found\n",
      "Event IDs: [  1536   1537   1538   1539   1540   1541   1542   2339 101394 101395\n",
      " 101396 101397 101398 101399 101400]\n",
      "6 matching events found\n",
      "No baseline correction applied\n",
      "Not setting metadata\n",
      "0 projection items activated\n",
      "Loading data for 6 events and 1537 original time points ...\n",
      "0 bad epochs dropped\n",
      "6 matching events found\n",
      "No baseline correction applied\n",
      "Not setting metadata\n",
      "0 projection items activated\n",
      "Loading data for 6 events and 1537 original time points ...\n",
      "0 bad epochs dropped\n",
      "6 matching events found\n",
      "No baseline correction applied\n",
      "Not setting metadata\n",
      "0 projection items activated\n",
      "Loading data for 6 events and 1537 original time points ...\n",
      "0 bad epochs dropped\n",
      "6 matching events found\n",
      "No baseline correction applied\n",
      "Not setting metadata\n",
      "0 projection items activated\n",
      "Loading data for 6 events and 1537 original time points ...\n",
      "0 bad epochs dropped\n",
      "6 matching events found\n",
      "No baseline correction applied\n",
      "Not setting metadata\n",
      "0 projection items activated\n",
      "Loading data for 6 events and 1537 original time points ...\n",
      "0 bad epochs dropped\n",
      "6 matching events found\n",
      "No baseline correction applied\n",
      "Not setting metadata\n",
      "0 projection items activated\n",
      "Loading data for 6 events and 1537 original time points ...\n",
      "0 bad epochs dropped\n",
      "Fitting ICA to data using 61 channels (please be patient, this may take a while)\n",
      "Inferring max_pca_components from picks\n",
      "Selection by number: 25 components\n",
      "Fitting ICA took 1.5s.\n",
      "EOG channel index for this subject is: [61 62 63]\n",
      "Filtering the data to remove DC offset to help distinguish blinks from saccades\n",
      "Setting up band-pass filter from 2 - 45 Hz\n",
      "Filter length of 8192 samples (16.000 sec) selected\n",
      "Setting up band-pass filter from 2 - 45 Hz\n",
      "Filter length of 8192 samples (16.000 sec) selected\n",
      "Setting up band-pass filter from 2 - 45 Hz\n",
      "Filter length of 8192 samples (16.000 sec) selected\n",
      "Setting up band-pass filter from 1 - 10 Hz\n",
      "Filter length of 8192 samples (16.000 sec) selected\n",
      "Now detecting blinks and generating corresponding events\n",
      "Number of EOG events detected : 54\n",
      "54 matching events found\n",
      "No baseline correction applied\n",
      "Not setting metadata\n",
      "Loading data for 54 events and 513 original time points ...\n",
      "0 bad epochs dropped\n",
      "Using EOG channel eog-r\n",
      "Transforming to ICA space (25 components)\n",
      "Zeroing out 2 ICA components\n"
     ]
    }
   ],
   "source": [
    "subjects = range(1, 2)\n",
    "trials = range(1, 2) \n",
    "for subject in subjects:\n",
    "    list_of_subject_raws = []\n",
    "    for trial in trials:\n",
    "        events, raw = create_event_array_for_movement_onset(subject, trial)\n",
    "        current_raw = filter_with_ica(raw, event_id, 3.0)\n",
    "        list_of_subject_raws.append(current_raw)\n",
    "    concat_raw = mne.concatenate_raws(list_of_subject_raws)"
   ]
  },
  {
   "cell_type": "markdown",
   "metadata": {},
   "source": [
    "Now we can concatenate all the events and pick events related to movement and to rest. "
   ]
  },
  {
   "cell_type": "code",
   "execution_count": 147,
   "metadata": {},
   "outputs": [
    {
     "name": "stdout",
     "output_type": "stream",
     "text": [
      "1620 events found\n",
      "Event IDs: [  3072   3074   3076   3078   3080   3082   3084   4678   5000   5001\n",
      "   5002   5003   5004   5005 202788 202790 202792 202794 202796 202798\n",
      " 202800]\n",
      "360 matching events found\n",
      "Applying baseline correction (mode: mean)\n",
      "Not setting metadata\n",
      "0 projection items activated\n",
      "Loading data for 360 events and 513 original time points ...\n",
      "0 bad epochs dropped\n",
      "60 matching events found\n",
      "Applying baseline correction (mode: mean)\n",
      "Not setting metadata\n",
      "0 projection items activated\n",
      "Loading data for 60 events and 513 original time points ...\n",
      "0 bad epochs dropped\n"
     ]
    }
   ],
   "source": [
    "concat_events = mne.find_events(concat_raw, stim_channel='STIM', shortest_event=1)\n",
    "picks = mne.pick_types(concat_raw.info, eeg=True, eog=False, stim=False)\n",
    "movement_id = dict(flex = 5000, extend = 5001, sup = 5002, pro = 5003, close = 5004, hopen = 5005)\n",
    "rest_id = dict(rest = 3084)\n",
    "movement_epochs = mne.Epochs(concat_raw, concat_events, movement_id, -1.0, -0.0, picks = picks, preload=True, baseline = (None, -1.0))\n",
    "rest_epochs = mne.Epochs(concat_raw, concat_events, rest_id, 0.0, 1.0, picks = picks, preload=True, baseline = (None, 0.0))"
   ]
  },
  {
   "cell_type": "markdown",
   "metadata": {},
   "source": [
    "We can see that for one subject there are 6 events *close*, *extend*, *flex*, *hopen*, *pro* and *sup* which include 60 epochs. Similarly, there are 60 epochs of a *rest* event."
   ]
  },
  {
   "cell_type": "code",
   "execution_count": 137,
   "metadata": {},
   "outputs": [
    {
     "data": {
      "text/plain": [
       "<Epochs  |   360 events (all good), -1.5 - -0.5 sec, baseline [None, -1.5], ~86.1 MB, data loaded,\n",
       " 'close': 60\n",
       " 'extend': 60\n",
       " 'flex': 60\n",
       " 'hopen': 60\n",
       " 'pro': 60\n",
       " 'sup': 60>"
      ]
     },
     "execution_count": 137,
     "metadata": {},
     "output_type": "execute_result"
    }
   ],
   "source": [
    "movement_epochs"
   ]
  },
  {
   "cell_type": "code",
   "execution_count": 138,
   "metadata": {},
   "outputs": [
    {
     "data": {
      "text/plain": [
       "<Epochs  |   60 events (all good), 0.5 - 1.5 sec, baseline [None, 0.5], ~14.5 MB, data loaded,\n",
       " 'rest': 60>"
      ]
     },
     "execution_count": 138,
     "metadata": {},
     "output_type": "execute_result"
    }
   ],
   "source": [
    "rest_epochs"
   ]
  },
  {
   "cell_type": "markdown",
   "metadata": {},
   "source": [
    "We can show then shown the power of the Cz or the center midline electrode from 4-40Hz. This electode can be used to show motor activity. Unfortunately, the power of the two activities appear to be very similar and may not be useful in machine learning."
   ]
  },
  {
   "cell_type": "code",
   "execution_count": 139,
   "metadata": {},
   "outputs": [
    {
     "name": "stdout",
     "output_type": "stream",
     "text": [
      "360 matching events found\n",
      "Applying baseline correction (mode: mean)\n",
      "Not setting metadata\n",
      "0 projection items activated\n",
      "Loading data for 360 events and 513 original time points ...\n",
      "0 bad epochs dropped\n",
      "60 matching events found\n",
      "Applying baseline correction (mode: mean)\n",
      "Not setting metadata\n",
      "0 projection items activated\n",
      "Loading data for 60 events and 513 original time points ...\n",
      "0 bad epochs dropped\n",
      "<Epochs  |   360 events (all good), -1.5 - -0.5 sec, baseline [None, -1.5], ~1.5 MB, data loaded,\n",
      " 'close': 60\n",
      " 'extend': 60\n",
      " 'flex': 60\n",
      " 'hopen': 60\n",
      " 'pro': 60\n",
      " 'sup': 60>\n",
      "<Epochs  |   60 events (all good), 0.5 - 1.5 sec, baseline [None, 0.5], ~288 kB, data loaded,\n",
      " 'rest': 60>\n",
      "    using multitaper spectrum estimation with 7 DPSS windows\n",
      "    using multitaper spectrum estimation with 7 DPSS windows\n"
     ]
    },
    {
     "data": {
      "image/png": "[encoded data removed]",
      "text/plain": [
       "<Figure size 432x288 with 1 Axes>"
      ]
     },
     "metadata": {},
     "output_type": "display_data"
    }
   ],
   "source": [
    "%matplotlib inline\n",
    "import matplotlib.pyplot as plt\n",
    "f, ax = plt.subplots()\n",
    "\n",
    "pick_electrodes = mne.pick_types(concat_raw.info, eeg=False, eog=False, stim=False, include = [\"Cz\"])\n",
    "movement_epochs = mne.Epochs(concat_raw, concat_events, movement_id, -1.5, -0.5, picks = pick_electrodes, preload=True, baseline = (None, -1.5))\n",
    "rest_epochs = mne.Epochs(concat_raw, concat_events, rest_id, 0.5, 1.5, picks = pick_electrodes, preload=True, baseline = (None, 0.5))\n",
    "print(movement_epochs)\n",
    "print(rest_epochs)\n",
    "\n",
    "psds_move, freqs = psd_multitaper(movement_epochs,fmin=4, fmax=40, n_jobs=1)\n",
    "psds_rest, freqs = psd_multitaper(rest_epochs,fmin=4, fmax=40, n_jobs=1)\n",
    "\n",
    "psds_movement = 10 * np.log10(psds_move)\n",
    "psds_move_mean = psds_movement.mean(0)\n",
    "psds_resting = 10 * np.log10(psds_rest)\n",
    "psds_rest_mean = psds_resting.mean(0)\n",
    "\n",
    "\n",
    "ax.plot(freqs, np.transpose(psds_move_mean), color='k')\n",
    "ax.plot(freqs, np.transpose(psds_rest_mean), color='b')\n",
    "ax.set(title='Multitaper PSD', xlabel='Frequency',\n",
    "       ylabel='Power Spectral Density (dB)')\n",
    "plt.show()"
   ]
  },
  {
   "cell_type": "code",
   "execution_count": 44,
   "metadata": {},
   "outputs": [],
   "source": [
    "from mne.channels import read_layout\n",
    "from mne.decoding import CSP"
   ]
  },
  {
   "cell_type": "markdown",
   "metadata": {},
   "source": [
    "Common Spatial Patter of CSP can then be used to sort out the most relevant information needed to seperate two events. CSP is therefore a supervised machine learning technique which aims to find discriminating information from two events."
   ]
  },
  {
   "cell_type": "markdown",
   "metadata": {},
   "source": [
    "To investigate this, we will look at two events flexion and rest. The rest will take place right after the rest cue is presented and the flextion will look at (-1, 0). "
   ]
  },
  {
   "cell_type": "markdown",
   "metadata": {},
   "source": [
    "We can implement CSP from the python mne package. First we need to create the movement-only and rest epochs. We can then seperate training and testing sets. We will then let the components be 4 where two of the components correspond with one event and the other two correspond with the other event. Then, we can implement cross-validation and get results from the test set."
   ]
  },
  {
   "cell_type": "code",
   "execution_count": 140,
   "metadata": {},
   "outputs": [
    {
     "data": {
      "text/plain": [
       "<Epochs  |   360 events (all good), -1.5 - -0.5 sec, baseline [None, -1.5], ~1.5 MB, data loaded,\n",
       " 'close': 60\n",
       " 'extend': 60\n",
       " 'flex': 60\n",
       " 'hopen': 60\n",
       " 'pro': 60\n",
       " 'sup': 60>"
      ]
     },
     "execution_count": 140,
     "metadata": {},
     "output_type": "execute_result"
    }
   ],
   "source": [
    "movement_epochs"
   ]
  },
  {
   "cell_type": "code",
   "execution_count": 148,
   "metadata": {},
   "outputs": [
    {
     "name": "stdout",
     "output_type": "stream",
     "text": [
      "360 matching events found\n",
      "Applying baseline correction (mode: mean)\n",
      "Not setting metadata\n",
      "0 projection items activated\n",
      "Loading data for 360 events and 513 original time points ...\n",
      "0 bad epochs dropped\n",
      "60 matching events found\n",
      "Applying baseline correction (mode: mean)\n",
      "Not setting metadata\n",
      "0 projection items activated\n",
      "Loading data for 60 events and 513 original time points ...\n",
      "0 bad epochs dropped\n",
      "<Epochs  |   360 events (all good), -1 - 0 sec, baseline [None, -1], ~86.1 MB, data loaded,\n",
      " 'close': 60\n",
      " 'extend': 60\n",
      " 'flex': 60\n",
      " 'hopen': 60\n",
      " 'pro': 60\n",
      " 'sup': 60>\n"
     ]
    }
   ],
   "source": [
    "# flex_labels = flex_epochs.events[:,2]\n",
    "# rest_labels = rest_epochs.events[:,2]\n",
    "# flex_labels = np.ones(len(flex_epochs.events[:,2]), dtype = np.uint8)\n",
    "# rest_labels = np.zeros(len(rest_epochs.events[:,2]), dtype = np.uint8)\n",
    "picks = mne.pick_types(concat_raw.info, eeg=True, eog=False, stim=False)\n",
    "movement_epochs = mne.Epochs(concat_raw, concat_events, movement_id, -1.0, -0.0, picks = picks, preload=True, baseline = (None, -1.0))\n",
    "rest_epochs = mne.Epochs(concat_raw, concat_events, rest_id, 0.0, 1.0, picks = picks, preload=True, baseline = (None, 0.0))\n",
    "print(movement_epochs)\n",
    "ev1_labels = np.ones(len(movement_epochs['flex'].events[:,2]), dtype = np.uint8)\n",
    "ev2_labels = np.zeros(len(movement_epochs['extend'].events[:,2]), dtype = np.uint8)\n",
    "rest_labels = np.zeros(len(rest_epochs.events[:,2]), dtype = np.uint8)\n",
    "\n",
    "labels = np.concatenate((ev1_labels, rest_labels), axis = None)\n",
    "data = np.concatenate((movement_epochs['extend'], rest_epochs), axis = 0)"
   ]
  },
  {
   "cell_type": "code",
   "execution_count": null,
   "metadata": {},
   "outputs": [],
   "source": []
  },
  {
   "cell_type": "code",
   "execution_count": 125,
   "metadata": {},
   "outputs": [],
   "source": [
    "# labels = np.concatenate((ev1_labels, ev2_labels,), axis = None)\n",
    "# data = np.concatenate((movement_epochs['flex'], movement_epochs['extend']), axis = 0)"
   ]
  },
  {
   "cell_type": "code",
   "execution_count": 126,
   "metadata": {},
   "outputs": [
    {
     "data": {
      "text/plain": [
       "array([1, 1, 1, 1, 1, 1, 1, 1, 1, 1, 1, 1, 1, 1, 1, 1, 1, 1, 1, 1, 1, 1,\n",
       "       1, 1, 1, 1, 1, 1, 1, 1, 1, 1, 1, 1, 1, 1, 1, 1, 1, 1, 1, 1, 1, 1,\n",
       "       1, 1, 1, 1, 1, 1, 1, 1, 1, 1, 1, 1, 1, 1, 1, 1, 0, 0, 0, 0, 0, 0,\n",
       "       0, 0, 0, 0, 0, 0, 0, 0, 0, 0, 0, 0, 0, 0, 0, 0, 0, 0, 0, 0, 0, 0,\n",
       "       0, 0, 0, 0, 0, 0, 0, 0, 0, 0, 0, 0, 0, 0, 0, 0, 0, 0, 0, 0, 0, 0,\n",
       "       0, 0, 0, 0, 0, 0, 0, 0, 0, 0], dtype=uint8)"
      ]
     },
     "execution_count": 126,
     "metadata": {},
     "output_type": "execute_result"
    }
   ],
   "source": [
    "labels"
   ]
  },
  {
   "cell_type": "code",
   "execution_count": 149,
   "metadata": {},
   "outputs": [],
   "source": [
    "from sklearn.pipeline import Pipeline, make_pipeline\n",
    "from sklearn.discriminant_analysis import LinearDiscriminantAnalysis\n",
    "from sklearn.model_selection import ShuffleSplit, cross_val_score\n",
    "from mne.decoding import Scaler, Vectorizer\n",
    "\n",
    "cv = ShuffleSplit(10, test_size=0.2, random_state=42)\n",
    "cv_split = cv.split(data)"
   ]
  },
  {
   "cell_type": "code",
   "execution_count": 152,
   "metadata": {
    "scrolled": true
   },
   "outputs": [
    {
     "name": "stdout",
     "output_type": "stream",
     "text": [
      "Estimating covariance using EMPIRICAL\n",
      "Done.\n",
      "Estimating covariance using EMPIRICAL\n",
      "Done.\n",
      "Estimating covariance using EMPIRICAL\n",
      "Done.\n",
      "Estimating covariance using EMPIRICAL\n",
      "Done.\n",
      "Estimating covariance using EMPIRICAL\n",
      "Done.\n",
      "Estimating covariance using EMPIRICAL\n",
      "Done.\n",
      "Estimating covariance using EMPIRICAL\n",
      "Done.\n",
      "Estimating covariance using EMPIRICAL\n",
      "Done.\n",
      "Estimating covariance using EMPIRICAL\n",
      "Done.\n",
      "Estimating covariance using EMPIRICAL\n",
      "Done.\n",
      "Estimating covariance using EMPIRICAL\n",
      "Done.\n",
      "Estimating covariance using EMPIRICAL\n",
      "Done.\n",
      "Estimating covariance using EMPIRICAL\n",
      "Done.\n",
      "Estimating covariance using EMPIRICAL\n",
      "Done.\n",
      "Estimating covariance using EMPIRICAL\n",
      "Done.\n",
      "Estimating covariance using EMPIRICAL\n",
      "Done.\n",
      "Estimating covariance using EMPIRICAL\n",
      "Done.\n",
      "Estimating covariance using EMPIRICAL\n",
      "Done.\n",
      "Estimating covariance using EMPIRICAL\n",
      "Done.\n",
      "Estimating covariance using EMPIRICAL\n",
      "Done.\n",
      "Classification accuracy: 0.491667 / Chance level: 0.500000\n"
     ]
    }
   ],
   "source": [
    "# Assemble a classifier\n",
    "lda = LinearDiscriminantAnalysis()\n",
    "csp = CSP(n_components=4, reg=None, log=True, norm_trace=False)\n",
    "\n",
    "# Use scikit-learn Pipeline with cross_val_score function\n",
    "#clf = Pipeline([Scaler(movement_epochs.info), Vectorizer(), ('CSP', csp), ('LDA', lda)])\n",
    "\n",
    "clf =  make_pipeline(Scaler(movement_epochs.info), csp, lda)\n",
    "scores = cross_val_score(clf, data, labels, cv=cv, n_jobs=1)\n",
    "class_balance = np.mean(labels == labels[0])\n",
    "class_balance = max(class_balance, 1. - class_balance)\n",
    "print(\"Classification accuracy: %f / Chance level: %f\" % (np.mean(scores), class_balance))"
   ]
  },
  {
   "cell_type": "code",
   "execution_count": 85,
   "metadata": {},
   "outputs": [
    {
     "name": "stdout",
     "output_type": "stream",
     "text": [
      "Classification accuracy: 0.445833 / Chance level: 0.500000\n"
     ]
    }
   ],
   "source": [
    "# Printing the results\n",
    "class_balance = np.mean(labels == labels[0])\n",
    "class_balance = max(class_balance, 1. - class_balance)\n",
    "print(\"Classification accuracy: %f / Chance level: %f\" % (np.mean(scores), class_balance))\n",
    "# plot CSP patterns estimated on full data for visualization\n",
    "#csp.fit_transform(data, labels)\n",
    "\n",
    "#layout = read_layout('EEG1005')\n",
    "#csp.plot_patterns(movement_epochs.info, layout=layout, ch_type='eeg', units='Unknown', size=1.5)"
   ]
  },
  {
   "cell_type": "code",
   "execution_count": null,
   "metadata": {},
   "outputs": [],
   "source": []
  },
  {
   "cell_type": "code",
   "execution_count": null,
   "metadata": {},
   "outputs": [],
   "source": []
  },
  {
   "cell_type": "code",
   "execution_count": null,
   "metadata": {},
   "outputs": [],
   "source": []
  },
  {
   "cell_type": "code",
   "execution_count": null,
   "metadata": {},
   "outputs": [],
   "source": []
  },
  {
   "cell_type": "code",
   "execution_count": null,
   "metadata": {},
   "outputs": [],
   "source": []
  },
  {
   "cell_type": "code",
   "execution_count": 261,
   "metadata": {},
   "outputs": [
    {
     "name": "stdout",
     "output_type": "stream",
     "text": [
      "Estimating covariance using EMPIRICAL\n",
      "Done.\n",
      "Estimating covariance using EMPIRICAL\n",
      "Done.\n"
     ]
    }
   ],
   "source": [
    "csp_results = csp.fit_transform(data, labels)"
   ]
  },
  {
   "cell_type": "code",
   "execution_count": 255,
   "metadata": {},
   "outputs": [
    {
     "data": {
      "image/png": "[encoded data removed]",
      "text/plain": [
       "<Figure size 432x288 with 1 Axes>"
      ]
     },
     "metadata": {},
     "output_type": "display_data"
    }
   ],
   "source": [
    "f, ax = plt.subplots()\n",
    "\n",
    "#psds_move, freqs = psd_multitaper(csp_results[:,0],fmin=4, fmax=40, n_jobs=1)\n",
    "#psds_rest, freqs = psd_multitaper(csp_results[:,3],fmin=4, fmax=40, n_jobs=1)\n",
    "freqs = list(range(len(csp_results[:,0])))\n",
    "\n",
    "csp1_power = csp_results[:,0]\n",
    "csp2_power = csp_results[:,3]\n",
    "\n",
    "# csp1_power = 10 * np.log10(pow(np.abs(csp_results[:,0]), 2)/len(csp_results[:,0]))\n",
    "# csp2_power = 10 * np.log10(pow(np.abs(csp_results[:,3]), 2)/len(csp_results[:,3]))\n",
    "\n",
    "# psds_movement = 10 * np.log10(psds_move)\n",
    "# psds_move_mean = psds_movement.mean(0)\n",
    "# psds_resting = 10 * np.log10(psds_rest)\n",
    "# psds_rest_mean = psds_resting.mean(0)\n",
    "\n",
    "\n",
    "ax.plot(freqs, csp1_power, color='k')\n",
    "ax.plot(freqs, csp2_power, color='b')\n",
    "ax.set(title='CSP Multitaper PSD', xlabel='Frequency',\n",
    "       ylabel='Power Spectral Density (dB)')\n",
    "plt.show()"
   ]
  },
  {
   "cell_type": "code",
   "execution_count": null,
   "metadata": {},
   "outputs": [],
   "source": []
  },
  {
   "cell_type": "code",
   "execution_count": 264,
   "metadata": {},
   "outputs": [
    {
     "data": {
      "text/plain": [
       "array([0.5       , 0.5       , 0.58333333, 0.625     , 0.45833333,\n",
       "       0.58333333, 0.5       , 0.45833333, 0.375     , 0.375     ])"
      ]
     },
     "execution_count": 264,
     "metadata": {},
     "output_type": "execute_result"
    }
   ],
   "source": [
    "scores"
   ]
  },
  {
   "cell_type": "code",
   "execution_count": 143,
   "metadata": {},
   "outputs": [
    {
     "data": {
      "text/plain": [
       "<Info | 17 non-empty fields\n",
       "    bads : list | 0 items\n",
       "    buffer_size_sec : float | 1.0\n",
       "    ch_names : list | F3, F1, Fz, F2, F4, FFC5h, FFC3h, FFC1h, FFC2h, ...\n",
       "    chs : list | 61 items (EEG: 61)\n",
       "    comps : list | 0 items\n",
       "    custom_ref_applied : bool | False\n",
       "    dev_head_t : Transform | 3 items\n",
       "    dig : list | 64 items\n",
       "    events : list | 0 items\n",
       "    highpass : float | 3.0 Hz\n",
       "    hpi_meas : list | 0 items\n",
       "    hpi_results : list | 0 items\n",
       "    lowpass : float | 42.0 Hz\n",
       "    nchan : int | 61\n",
       "    proc_history : list | 0 items\n",
       "    projs : list | 0 items\n",
       "    sfreq : float | 512.0 Hz\n",
       "    acq_pars : NoneType\n",
       "    acq_stim : NoneType\n",
       "    ctf_head_t : NoneType\n",
       "    description : NoneType\n",
       "    dev_ctf_t : NoneType\n",
       "    experimenter : NoneType\n",
       "    file_id : NoneType\n",
       "    gantry_angle : NoneType\n",
       "    hpi_subsystem : NoneType\n",
       "    kit_system_id : NoneType\n",
       "    line_freq : NoneType\n",
       "    meas_date : NoneType\n",
       "    meas_id : NoneType\n",
       "    proj_id : NoneType\n",
       "    proj_name : NoneType\n",
       "    subject_info : NoneType\n",
       "    xplotter_layout : NoneType\n",
       ">"
      ]
     },
     "execution_count": 143,
     "metadata": {},
     "output_type": "execute_result"
    }
   ],
   "source": [
    "flex_epochs.info"
   ]
  },
  {
   "cell_type": "code",
   "execution_count": null,
   "metadata": {},
   "outputs": [],
   "source": [
    "# Create a data frame testing all the permutations of events\n"
   ]
  },
  {
   "cell_type": "markdown",
   "metadata": {},
   "source": [
    "## Create Filter Banks for Binary Classification"
   ]
  },
  {
   "cell_type": "code",
   "execution_count": 270,
   "metadata": {},
   "outputs": [],
   "source": [
    "def create_epochs(raw, low_pass, high_pass, events, event_id, picks):\n",
    "    new = raw.copy()\n",
    "    new_data = new.filter(low_pass, high_pass, fir_design='firwin')\n",
    "    epochs = Epochs(new_data, events, event_id, -1, 0, proj=True, picks=picks, baseline=None, preload=True)\n",
    "    return epochs"
   ]
  },
  {
   "cell_type": "code",
   "execution_count": 275,
   "metadata": {},
   "outputs": [
    {
     "name": "stdout",
     "output_type": "stream",
     "text": [
      "Extracting EDF parameters from D:/Datasets/ULM/S01_ME/motorexecution_subject1_run1.gdf...\n",
      "GDF file detected\n",
      "Overlapping events detected. Use find_edf_events for the original events.\n",
      "Setting channel info structure...\n",
      "Interpolating stim channel. Events may jitter.\n",
      "Creating raw.info structure...\n",
      "3 channel names are too long, have been truncated to 15 characters:\n",
      "['ShoulderAdductio', 'ShoulderFlexionE', 'ShoulderRotation']\n",
      "Channel names are not unique, found duplicates for: {'eeg'}. Applying running numbers for duplicates.\n"
     ]
    },
    {
     "name": "stderr",
     "output_type": "stream",
     "text": [
      "C:\\Users\\mschr\\AppData\\Local\\conda\\conda\\envs\\mne\\lib\\site-packages\\mne\\io\\edf\\edf.py:1028: DeprecationWarning: The binary mode of fromstring is deprecated, as it behaves surprisingly on unicode inputs. Use frombuffer instead\n",
      "  etmode = np.fromstring(etmode, np.uint8).tolist()[0]\n",
      "D:\\Datasets\\ULM\\ulm_dataset.py:37: RuntimeWarning: Overlapping events detected. Use find_edf_events for the original events.\n",
      "  raw = mne.io.read_raw_edf(file_location)\n",
      "D:\\Datasets\\ULM\\ulm_dataset.py:37: RuntimeWarning: Interpolating stim channel. Events may jitter.\n",
      "  raw = mne.io.read_raw_edf(file_location)\n",
      "D:\\Datasets\\ULM\\ulm_dataset.py:37: RuntimeWarning: 3 channel names are too long, have been truncated to 15 characters:\n",
      "['ShoulderAdductio', 'ShoulderFlexionE', 'ShoulderRotation']\n",
      "  raw = mne.io.read_raw_edf(file_location)\n",
      "D:\\Datasets\\ULM\\ulm_dataset.py:37: RuntimeWarning: Channel names are not unique, found duplicates for: {'eeg'}. Applying running numbers for duplicates.\n",
      "  raw = mne.io.read_raw_edf(file_location)\n"
     ]
    },
    {
     "name": "stdout",
     "output_type": "stream",
     "text": [
      "126 events found\n",
      "Event IDs: [  1536   1537   1538   1539   1540   1541   1542   2339 101394 101395\n",
      " 101396 101397 101398 101399 101400]\n",
      "6 matching events found\n",
      "No baseline correction applied\n",
      "Not setting metadata\n",
      "0 projection items activated\n",
      "Loading data for 6 events and 1537 original time points ...\n",
      "0 bad epochs dropped\n",
      "6 matching events found\n",
      "No baseline correction applied\n",
      "Not setting metadata\n",
      "0 projection items activated\n",
      "Loading data for 6 events and 1537 original time points ...\n",
      "0 bad epochs dropped\n",
      "6 matching events found\n",
      "No baseline correction applied\n",
      "Not setting metadata\n",
      "0 projection items activated\n",
      "Loading data for 6 events and 1537 original time points ...\n",
      "0 bad epochs dropped\n",
      "6 matching events found\n",
      "No baseline correction applied\n",
      "Not setting metadata\n",
      "0 projection items activated\n",
      "Loading data for 6 events and 1537 original time points ...\n",
      "0 bad epochs dropped\n",
      "6 matching events found\n",
      "No baseline correction applied\n",
      "Not setting metadata\n",
      "0 projection items activated\n",
      "Loading data for 6 events and 1537 original time points ...\n",
      "0 bad epochs dropped\n",
      "6 matching events found\n",
      "No baseline correction applied\n",
      "Not setting metadata\n",
      "0 projection items activated\n",
      "Loading data for 6 events and 1537 original time points ...\n",
      "0 bad epochs dropped\n",
      "Fitting ICA to data using 61 channels (please be patient, this may take a while)\n",
      "Inferring max_pca_components from picks\n",
      "Selection by number: 25 components\n",
      "Fitting ICA took 0.9s.\n",
      "EOG channel index for this subject is: [61 62 63]\n",
      "Filtering the data to remove DC offset to help distinguish blinks from saccades\n",
      "Setting up band-pass filter from 2 - 45 Hz\n",
      "Filter length of 8192 samples (16.000 sec) selected\n",
      "Setting up band-pass filter from 2 - 45 Hz\n",
      "Filter length of 8192 samples (16.000 sec) selected\n",
      "Setting up band-pass filter from 2 - 45 Hz\n",
      "Filter length of 8192 samples (16.000 sec) selected\n",
      "Setting up band-pass filter from 1 - 10 Hz\n",
      "Filter length of 8192 samples (16.000 sec) selected\n",
      "Now detecting blinks and generating corresponding events\n",
      "Number of EOG events detected : 54\n",
      "54 matching events found\n",
      "No baseline correction applied\n",
      "Not setting metadata\n",
      "Loading data for 54 events and 513 original time points ...\n",
      "0 bad epochs dropped\n",
      "Using EOG channel eog-r\n",
      "Transforming to ICA space (25 components)\n",
      "Zeroing out 2 ICA components\n",
      "Extracting EDF parameters from D:/Datasets/ULM/S01_ME/motorexecution_subject1_run2.gdf...\n",
      "GDF file detected\n",
      "Overlapping events detected. Use find_edf_events for the original events.\n",
      "Setting channel info structure...\n",
      "Interpolating stim channel. Events may jitter.\n",
      "Creating raw.info structure...\n",
      "3 channel names are too long, have been truncated to 15 characters:\n",
      "['ShoulderAdductio', 'ShoulderFlexionE', 'ShoulderRotation']\n",
      "Channel names are not unique, found duplicates for: {'eeg'}. Applying running numbers for duplicates.\n"
     ]
    },
    {
     "name": "stderr",
     "output_type": "stream",
     "text": [
      "C:\\Users\\mschr\\AppData\\Local\\conda\\conda\\envs\\mne\\lib\\site-packages\\mne\\io\\edf\\edf.py:1028: DeprecationWarning: The binary mode of fromstring is deprecated, as it behaves surprisingly on unicode inputs. Use frombuffer instead\n",
      "  etmode = np.fromstring(etmode, np.uint8).tolist()[0]\n",
      "D:\\Datasets\\ULM\\ulm_dataset.py:37: RuntimeWarning: Overlapping events detected. Use find_edf_events for the original events.\n",
      "  raw = mne.io.read_raw_edf(file_location)\n",
      "D:\\Datasets\\ULM\\ulm_dataset.py:37: RuntimeWarning: Interpolating stim channel. Events may jitter.\n",
      "  raw = mne.io.read_raw_edf(file_location)\n",
      "D:\\Datasets\\ULM\\ulm_dataset.py:37: RuntimeWarning: 3 channel names are too long, have been truncated to 15 characters:\n",
      "['ShoulderAdductio', 'ShoulderFlexionE', 'ShoulderRotation']\n",
      "  raw = mne.io.read_raw_edf(file_location)\n",
      "D:\\Datasets\\ULM\\ulm_dataset.py:37: RuntimeWarning: Channel names are not unique, found duplicates for: {'eeg'}. Applying running numbers for duplicates.\n",
      "  raw = mne.io.read_raw_edf(file_location)\n"
     ]
    },
    {
     "name": "stdout",
     "output_type": "stream",
     "text": [
      "126 events found\n",
      "Event IDs: [  1536   1537   1538   1539   1540   1541   1542   2339 101394 101395\n",
      " 101396 101397 101398 101399 101400]\n",
      "6 matching events found\n",
      "No baseline correction applied\n",
      "Not setting metadata\n",
      "0 projection items activated\n",
      "Loading data for 6 events and 1537 original time points ...\n",
      "0 bad epochs dropped\n",
      "6 matching events found\n",
      "No baseline correction applied\n",
      "Not setting metadata\n",
      "0 projection items activated\n",
      "Loading data for 6 events and 1537 original time points ...\n",
      "0 bad epochs dropped\n",
      "6 matching events found\n",
      "No baseline correction applied\n",
      "Not setting metadata\n",
      "0 projection items activated\n",
      "Loading data for 6 events and 1537 original time points ...\n",
      "0 bad epochs dropped\n",
      "6 matching events found\n",
      "No baseline correction applied\n",
      "Not setting metadata\n",
      "0 projection items activated\n",
      "Loading data for 6 events and 1537 original time points ...\n",
      "0 bad epochs dropped\n",
      "6 matching events found\n",
      "No baseline correction applied\n",
      "Not setting metadata\n",
      "0 projection items activated\n",
      "Loading data for 6 events and 1537 original time points ...\n",
      "0 bad epochs dropped\n",
      "6 matching events found\n",
      "No baseline correction applied\n",
      "Not setting metadata\n",
      "0 projection items activated\n",
      "Loading data for 6 events and 1537 original time points ...\n",
      "0 bad epochs dropped\n",
      "Fitting ICA to data using 61 channels (please be patient, this may take a while)\n",
      "Inferring max_pca_components from picks\n",
      "Selection by number: 25 components\n",
      "Fitting ICA took 1.3s.\n",
      "EOG channel index for this subject is: [61 62 63]\n",
      "Filtering the data to remove DC offset to help distinguish blinks from saccades\n",
      "Setting up band-pass filter from 2 - 45 Hz\n",
      "Filter length of 8192 samples (16.000 sec) selected\n",
      "Setting up band-pass filter from 2 - 45 Hz\n",
      "Filter length of 8192 samples (16.000 sec) selected\n",
      "Setting up band-pass filter from 2 - 45 Hz\n",
      "Filter length of 8192 samples (16.000 sec) selected\n",
      "Setting up band-pass filter from 1 - 10 Hz\n",
      "Filter length of 8192 samples (16.000 sec) selected\n",
      "Now detecting blinks and generating corresponding events\n",
      "Number of EOG events detected : 51\n",
      "51 matching events found\n",
      "No baseline correction applied\n",
      "Not setting metadata\n",
      "Loading data for 51 events and 513 original time points ...\n",
      "1 bad epochs dropped\n",
      "Using EOG channel eog-r\n",
      "Transforming to ICA space (25 components)\n",
      "Zeroing out 2 ICA components\n",
      "Extracting EDF parameters from D:/Datasets/ULM/S01_ME/motorexecution_subject1_run3.gdf...\n",
      "GDF file detected\n",
      "Overlapping events detected. Use find_edf_events for the original events.\n",
      "Setting channel info structure...\n",
      "Interpolating stim channel. Events may jitter.\n",
      "Creating raw.info structure...\n",
      "3 channel names are too long, have been truncated to 15 characters:\n",
      "['ShoulderAdductio', 'ShoulderFlexionE', 'ShoulderRotation']\n",
      "Channel names are not unique, found duplicates for: {'eeg'}. Applying running numbers for duplicates.\n"
     ]
    },
    {
     "name": "stderr",
     "output_type": "stream",
     "text": [
      "C:\\Users\\mschr\\AppData\\Local\\conda\\conda\\envs\\mne\\lib\\site-packages\\mne\\io\\edf\\edf.py:1028: DeprecationWarning: The binary mode of fromstring is deprecated, as it behaves surprisingly on unicode inputs. Use frombuffer instead\n",
      "  etmode = np.fromstring(etmode, np.uint8).tolist()[0]\n",
      "D:\\Datasets\\ULM\\ulm_dataset.py:37: RuntimeWarning: Overlapping events detected. Use find_edf_events for the original events.\n",
      "  raw = mne.io.read_raw_edf(file_location)\n",
      "D:\\Datasets\\ULM\\ulm_dataset.py:37: RuntimeWarning: Interpolating stim channel. Events may jitter.\n",
      "  raw = mne.io.read_raw_edf(file_location)\n",
      "D:\\Datasets\\ULM\\ulm_dataset.py:37: RuntimeWarning: 3 channel names are too long, have been truncated to 15 characters:\n",
      "['ShoulderAdductio', 'ShoulderFlexionE', 'ShoulderRotation']\n",
      "  raw = mne.io.read_raw_edf(file_location)\n",
      "D:\\Datasets\\ULM\\ulm_dataset.py:37: RuntimeWarning: Channel names are not unique, found duplicates for: {'eeg'}. Applying running numbers for duplicates.\n",
      "  raw = mne.io.read_raw_edf(file_location)\n"
     ]
    },
    {
     "name": "stdout",
     "output_type": "stream",
     "text": [
      "126 events found\n",
      "Event IDs: [  1536   1537   1538   1539   1540   1541   1542   2339 101394 101395\n",
      " 101396 101397 101398 101399 101400]\n",
      "6 matching events found\n",
      "No baseline correction applied\n",
      "Not setting metadata\n",
      "0 projection items activated\n",
      "Loading data for 6 events and 1537 original time points ...\n",
      "0 bad epochs dropped\n",
      "6 matching events found\n",
      "No baseline correction applied\n",
      "Not setting metadata\n",
      "0 projection items activated\n",
      "Loading data for 6 events and 1537 original time points ...\n",
      "0 bad epochs dropped\n",
      "6 matching events found\n",
      "No baseline correction applied\n",
      "Not setting metadata\n",
      "0 projection items activated\n",
      "Loading data for 6 events and 1537 original time points ...\n",
      "0 bad epochs dropped\n",
      "6 matching events found\n",
      "No baseline correction applied\n",
      "Not setting metadata\n",
      "0 projection items activated\n",
      "Loading data for 6 events and 1537 original time points ...\n",
      "0 bad epochs dropped\n",
      "6 matching events found\n",
      "No baseline correction applied\n",
      "Not setting metadata\n",
      "0 projection items activated\n",
      "Loading data for 6 events and 1537 original time points ...\n",
      "0 bad epochs dropped\n",
      "6 matching events found\n",
      "No baseline correction applied\n",
      "Not setting metadata\n",
      "0 projection items activated\n",
      "Loading data for 6 events and 1537 original time points ...\n",
      "0 bad epochs dropped\n",
      "Fitting ICA to data using 61 channels (please be patient, this may take a while)\n",
      "Inferring max_pca_components from picks\n",
      "Selection by number: 25 components\n",
      "Fitting ICA took 1.2s.\n",
      "EOG channel index for this subject is: [61 62 63]\n",
      "Filtering the data to remove DC offset to help distinguish blinks from saccades\n",
      "Setting up band-pass filter from 2 - 45 Hz\n",
      "Filter length of 8192 samples (16.000 sec) selected\n",
      "Setting up band-pass filter from 2 - 45 Hz\n",
      "Filter length of 8192 samples (16.000 sec) selected\n",
      "Setting up band-pass filter from 2 - 45 Hz\n",
      "Filter length of 8192 samples (16.000 sec) selected\n",
      "Setting up band-pass filter from 1 - 10 Hz\n",
      "Filter length of 8192 samples (16.000 sec) selected\n",
      "Now detecting blinks and generating corresponding events\n",
      "Number of EOG events detected : 81\n",
      "81 matching events found\n",
      "No baseline correction applied\n",
      "Not setting metadata\n",
      "Loading data for 81 events and 513 original time points ...\n",
      "1 bad epochs dropped\n",
      "Using EOG channel eog-r\n",
      "Transforming to ICA space (25 components)\n",
      "Zeroing out 0 ICA components\n",
      "Extracting EDF parameters from D:/Datasets/ULM/S01_ME/motorexecution_subject1_run4.gdf...\n",
      "GDF file detected\n",
      "Overlapping events detected. Use find_edf_events for the original events.\n",
      "Setting channel info structure...\n",
      "Interpolating stim channel. Events may jitter.\n",
      "Creating raw.info structure...\n",
      "3 channel names are too long, have been truncated to 15 characters:\n",
      "['ShoulderAdductio', 'ShoulderFlexionE', 'ShoulderRotation']\n",
      "Channel names are not unique, found duplicates for: {'eeg'}. Applying running numbers for duplicates.\n"
     ]
    },
    {
     "name": "stderr",
     "output_type": "stream",
     "text": [
      "C:\\Users\\mschr\\AppData\\Local\\conda\\conda\\envs\\mne\\lib\\site-packages\\mne\\io\\edf\\edf.py:1028: DeprecationWarning: The binary mode of fromstring is deprecated, as it behaves surprisingly on unicode inputs. Use frombuffer instead\n",
      "  etmode = np.fromstring(etmode, np.uint8).tolist()[0]\n",
      "D:\\Datasets\\ULM\\ulm_dataset.py:37: RuntimeWarning: Overlapping events detected. Use find_edf_events for the original events.\n",
      "  raw = mne.io.read_raw_edf(file_location)\n",
      "D:\\Datasets\\ULM\\ulm_dataset.py:37: RuntimeWarning: Interpolating stim channel. Events may jitter.\n",
      "  raw = mne.io.read_raw_edf(file_location)\n",
      "D:\\Datasets\\ULM\\ulm_dataset.py:37: RuntimeWarning: 3 channel names are too long, have been truncated to 15 characters:\n",
      "['ShoulderAdductio', 'ShoulderFlexionE', 'ShoulderRotation']\n",
      "  raw = mne.io.read_raw_edf(file_location)\n",
      "D:\\Datasets\\ULM\\ulm_dataset.py:37: RuntimeWarning: Channel names are not unique, found duplicates for: {'eeg'}. Applying running numbers for duplicates.\n",
      "  raw = mne.io.read_raw_edf(file_location)\n"
     ]
    },
    {
     "name": "stdout",
     "output_type": "stream",
     "text": [
      "126 events found\n",
      "Event IDs: [  1536   1537   1538   1539   1540   1541   1542   2339 101394 101395\n",
      " 101396 101397 101398 101399 101400]\n",
      "6 matching events found\n",
      "No baseline correction applied\n",
      "Not setting metadata\n",
      "0 projection items activated\n",
      "Loading data for 6 events and 1537 original time points ...\n",
      "0 bad epochs dropped\n",
      "6 matching events found\n",
      "No baseline correction applied\n",
      "Not setting metadata\n",
      "0 projection items activated\n",
      "Loading data for 6 events and 1537 original time points ...\n",
      "0 bad epochs dropped\n",
      "6 matching events found\n",
      "No baseline correction applied\n",
      "Not setting metadata\n",
      "0 projection items activated\n",
      "Loading data for 6 events and 1537 original time points ...\n",
      "0 bad epochs dropped\n",
      "6 matching events found\n",
      "No baseline correction applied\n",
      "Not setting metadata\n",
      "0 projection items activated\n",
      "Loading data for 6 events and 1537 original time points ...\n",
      "0 bad epochs dropped\n",
      "6 matching events found\n",
      "No baseline correction applied\n",
      "Not setting metadata\n",
      "0 projection items activated\n",
      "Loading data for 6 events and 1537 original time points ...\n",
      "0 bad epochs dropped\n",
      "6 matching events found\n",
      "No baseline correction applied\n",
      "Not setting metadata\n",
      "0 projection items activated\n",
      "Loading data for 6 events and 1537 original time points ...\n",
      "0 bad epochs dropped\n",
      "Fitting ICA to data using 61 channels (please be patient, this may take a while)\n",
      "Inferring max_pca_components from picks\n",
      "Selection by number: 25 components\n",
      "Fitting ICA took 1.0s.\n",
      "EOG channel index for this subject is: [61 62 63]\n",
      "Filtering the data to remove DC offset to help distinguish blinks from saccades\n",
      "Setting up band-pass filter from 2 - 45 Hz\n",
      "Filter length of 8192 samples (16.000 sec) selected\n",
      "Setting up band-pass filter from 2 - 45 Hz\n",
      "Filter length of 8192 samples (16.000 sec) selected\n",
      "Setting up band-pass filter from 2 - 45 Hz\n",
      "Filter length of 8192 samples (16.000 sec) selected\n",
      "Setting up band-pass filter from 1 - 10 Hz\n",
      "Filter length of 8192 samples (16.000 sec) selected\n",
      "Now detecting blinks and generating corresponding events\n",
      "Number of EOG events detected : 89\n",
      "89 matching events found\n",
      "No baseline correction applied\n",
      "Not setting metadata\n",
      "Loading data for 89 events and 513 original time points ...\n",
      "1 bad epochs dropped\n",
      "Using EOG channel eog-r\n",
      "Transforming to ICA space (25 components)\n",
      "Zeroing out 0 ICA components\n",
      "Extracting EDF parameters from D:/Datasets/ULM/S01_ME/motorexecution_subject1_run5.gdf...\n",
      "GDF file detected\n",
      "Overlapping events detected. Use find_edf_events for the original events.\n",
      "Setting channel info structure...\n",
      "Interpolating stim channel. Events may jitter.\n",
      "Creating raw.info structure...\n",
      "3 channel names are too long, have been truncated to 15 characters:\n",
      "['ShoulderAdductio', 'ShoulderFlexionE', 'ShoulderRotation']\n",
      "Channel names are not unique, found duplicates for: {'eeg'}. Applying running numbers for duplicates.\n"
     ]
    },
    {
     "name": "stderr",
     "output_type": "stream",
     "text": [
      "C:\\Users\\mschr\\AppData\\Local\\conda\\conda\\envs\\mne\\lib\\site-packages\\mne\\io\\edf\\edf.py:1028: DeprecationWarning: The binary mode of fromstring is deprecated, as it behaves surprisingly on unicode inputs. Use frombuffer instead\n",
      "  etmode = np.fromstring(etmode, np.uint8).tolist()[0]\n",
      "D:\\Datasets\\ULM\\ulm_dataset.py:37: RuntimeWarning: Overlapping events detected. Use find_edf_events for the original events.\n",
      "  raw = mne.io.read_raw_edf(file_location)\n",
      "D:\\Datasets\\ULM\\ulm_dataset.py:37: RuntimeWarning: Interpolating stim channel. Events may jitter.\n",
      "  raw = mne.io.read_raw_edf(file_location)\n",
      "D:\\Datasets\\ULM\\ulm_dataset.py:37: RuntimeWarning: 3 channel names are too long, have been truncated to 15 characters:\n",
      "['ShoulderAdductio', 'ShoulderFlexionE', 'ShoulderRotation']\n",
      "  raw = mne.io.read_raw_edf(file_location)\n",
      "D:\\Datasets\\ULM\\ulm_dataset.py:37: RuntimeWarning: Channel names are not unique, found duplicates for: {'eeg'}. Applying running numbers for duplicates.\n",
      "  raw = mne.io.read_raw_edf(file_location)\n"
     ]
    },
    {
     "name": "stdout",
     "output_type": "stream",
     "text": [
      "126 events found\n",
      "Event IDs: [  1536   1537   1538   1539   1540   1541   1542   2339 101394 101395\n",
      " 101396 101397 101398 101399 101400]\n",
      "6 matching events found\n",
      "No baseline correction applied\n",
      "Not setting metadata\n",
      "0 projection items activated\n",
      "Loading data for 6 events and 1537 original time points ...\n",
      "0 bad epochs dropped\n",
      "6 matching events found\n",
      "No baseline correction applied\n",
      "Not setting metadata\n",
      "0 projection items activated\n",
      "Loading data for 6 events and 1537 original time points ...\n",
      "0 bad epochs dropped\n",
      "6 matching events found\n",
      "No baseline correction applied\n",
      "Not setting metadata\n",
      "0 projection items activated\n",
      "Loading data for 6 events and 1537 original time points ...\n",
      "0 bad epochs dropped\n",
      "6 matching events found\n",
      "No baseline correction applied\n",
      "Not setting metadata\n",
      "0 projection items activated\n",
      "Loading data for 6 events and 1537 original time points ...\n",
      "0 bad epochs dropped\n",
      "6 matching events found\n",
      "No baseline correction applied\n",
      "Not setting metadata\n",
      "0 projection items activated\n",
      "Loading data for 6 events and 1537 original time points ...\n",
      "0 bad epochs dropped\n",
      "6 matching events found\n",
      "No baseline correction applied\n",
      "Not setting metadata\n",
      "0 projection items activated\n",
      "Loading data for 6 events and 1537 original time points ...\n",
      "0 bad epochs dropped\n",
      "Fitting ICA to data using 61 channels (please be patient, this may take a while)\n",
      "Inferring max_pca_components from picks\n",
      "Selection by number: 25 components\n",
      "Fitting ICA took 1.0s.\n",
      "EOG channel index for this subject is: [61 62 63]\n",
      "Filtering the data to remove DC offset to help distinguish blinks from saccades\n",
      "Setting up band-pass filter from 2 - 45 Hz\n",
      "Filter length of 8192 samples (16.000 sec) selected\n",
      "Setting up band-pass filter from 2 - 45 Hz\n",
      "Filter length of 8192 samples (16.000 sec) selected\n",
      "Setting up band-pass filter from 2 - 45 Hz\n",
      "Filter length of 8192 samples (16.000 sec) selected\n",
      "Setting up band-pass filter from 1 - 10 Hz\n",
      "Filter length of 8192 samples (16.000 sec) selected\n",
      "Now detecting blinks and generating corresponding events\n",
      "Number of EOG events detected : 66\n",
      "66 matching events found\n",
      "No baseline correction applied\n",
      "Not setting metadata\n",
      "Loading data for 66 events and 513 original time points ...\n",
      "1 bad epochs dropped\n",
      "Using EOG channel eog-r\n",
      "Transforming to ICA space (25 components)\n",
      "Zeroing out 2 ICA components\n",
      "Extracting EDF parameters from D:/Datasets/ULM/S01_ME/motorexecution_subject1_run6.gdf...\n",
      "GDF file detected\n",
      "Overlapping events detected. Use find_edf_events for the original events.\n",
      "Setting channel info structure...\n",
      "Interpolating stim channel. Events may jitter.\n",
      "Creating raw.info structure...\n",
      "3 channel names are too long, have been truncated to 15 characters:\n",
      "['ShoulderAdductio', 'ShoulderFlexionE', 'ShoulderRotation']\n",
      "Channel names are not unique, found duplicates for: {'eeg'}. Applying running numbers for duplicates.\n"
     ]
    },
    {
     "name": "stderr",
     "output_type": "stream",
     "text": [
      "C:\\Users\\mschr\\AppData\\Local\\conda\\conda\\envs\\mne\\lib\\site-packages\\mne\\io\\edf\\edf.py:1028: DeprecationWarning: The binary mode of fromstring is deprecated, as it behaves surprisingly on unicode inputs. Use frombuffer instead\n",
      "  etmode = np.fromstring(etmode, np.uint8).tolist()[0]\n",
      "D:\\Datasets\\ULM\\ulm_dataset.py:37: RuntimeWarning: Overlapping events detected. Use find_edf_events for the original events.\n",
      "  raw = mne.io.read_raw_edf(file_location)\n",
      "D:\\Datasets\\ULM\\ulm_dataset.py:37: RuntimeWarning: Interpolating stim channel. Events may jitter.\n",
      "  raw = mne.io.read_raw_edf(file_location)\n",
      "D:\\Datasets\\ULM\\ulm_dataset.py:37: RuntimeWarning: 3 channel names are too long, have been truncated to 15 characters:\n",
      "['ShoulderAdductio', 'ShoulderFlexionE', 'ShoulderRotation']\n",
      "  raw = mne.io.read_raw_edf(file_location)\n",
      "D:\\Datasets\\ULM\\ulm_dataset.py:37: RuntimeWarning: Channel names are not unique, found duplicates for: {'eeg'}. Applying running numbers for duplicates.\n",
      "  raw = mne.io.read_raw_edf(file_location)\n"
     ]
    },
    {
     "name": "stdout",
     "output_type": "stream",
     "text": [
      "126 events found\n",
      "Event IDs: [  1536   1537   1538   1539   1540   1541   1542   2339 101394 101395\n",
      " 101396 101397 101398 101399 101400]\n",
      "6 matching events found\n",
      "No baseline correction applied\n",
      "Not setting metadata\n",
      "0 projection items activated\n",
      "Loading data for 6 events and 1537 original time points ...\n",
      "0 bad epochs dropped\n",
      "6 matching events found\n",
      "No baseline correction applied\n",
      "Not setting metadata\n",
      "0 projection items activated\n",
      "Loading data for 6 events and 1537 original time points ...\n",
      "0 bad epochs dropped\n",
      "6 matching events found\n",
      "No baseline correction applied\n",
      "Not setting metadata\n",
      "0 projection items activated\n",
      "Loading data for 6 events and 1537 original time points ...\n",
      "0 bad epochs dropped\n",
      "6 matching events found\n",
      "No baseline correction applied\n",
      "Not setting metadata\n",
      "0 projection items activated\n",
      "Loading data for 6 events and 1537 original time points ...\n",
      "0 bad epochs dropped\n",
      "6 matching events found\n",
      "No baseline correction applied\n",
      "Not setting metadata\n",
      "0 projection items activated\n",
      "Loading data for 6 events and 1537 original time points ...\n",
      "0 bad epochs dropped\n",
      "6 matching events found\n",
      "No baseline correction applied\n",
      "Not setting metadata\n",
      "0 projection items activated\n",
      "Loading data for 6 events and 1537 original time points ...\n",
      "0 bad epochs dropped\n",
      "Fitting ICA to data using 61 channels (please be patient, this may take a while)\n",
      "Inferring max_pca_components from picks\n",
      "Selection by number: 25 components\n",
      "Fitting ICA took 1.1s.\n",
      "EOG channel index for this subject is: [61 62 63]\n",
      "Filtering the data to remove DC offset to help distinguish blinks from saccades\n",
      "Setting up band-pass filter from 2 - 45 Hz\n",
      "Filter length of 8192 samples (16.000 sec) selected\n",
      "Setting up band-pass filter from 2 - 45 Hz\n",
      "Filter length of 8192 samples (16.000 sec) selected\n",
      "Setting up band-pass filter from 2 - 45 Hz\n",
      "Filter length of 8192 samples (16.000 sec) selected\n",
      "Setting up band-pass filter from 1 - 10 Hz\n",
      "Filter length of 8192 samples (16.000 sec) selected\n",
      "Now detecting blinks and generating corresponding events\n",
      "Number of EOG events detected : 52\n",
      "52 matching events found\n",
      "No baseline correction applied\n",
      "Not setting metadata\n",
      "Loading data for 52 events and 513 original time points ...\n",
      "0 bad epochs dropped\n",
      "Using EOG channel eog-r\n",
      "Transforming to ICA space (25 components)\n",
      "Zeroing out 2 ICA components\n",
      "Extracting EDF parameters from D:/Datasets/ULM/S01_ME/motorexecution_subject1_run7.gdf...\n",
      "GDF file detected\n",
      "Overlapping events detected. Use find_edf_events for the original events.\n",
      "Setting channel info structure...\n",
      "Interpolating stim channel. Events may jitter.\n",
      "Creating raw.info structure...\n",
      "3 channel names are too long, have been truncated to 15 characters:\n",
      "['ShoulderAdductio', 'ShoulderFlexionE', 'ShoulderRotation']\n",
      "Channel names are not unique, found duplicates for: {'eeg'}. Applying running numbers for duplicates.\n"
     ]
    },
    {
     "name": "stderr",
     "output_type": "stream",
     "text": [
      "C:\\Users\\mschr\\AppData\\Local\\conda\\conda\\envs\\mne\\lib\\site-packages\\mne\\io\\edf\\edf.py:1028: DeprecationWarning: The binary mode of fromstring is deprecated, as it behaves surprisingly on unicode inputs. Use frombuffer instead\n",
      "  etmode = np.fromstring(etmode, np.uint8).tolist()[0]\n",
      "D:\\Datasets\\ULM\\ulm_dataset.py:37: RuntimeWarning: Overlapping events detected. Use find_edf_events for the original events.\n",
      "  raw = mne.io.read_raw_edf(file_location)\n",
      "D:\\Datasets\\ULM\\ulm_dataset.py:37: RuntimeWarning: Interpolating stim channel. Events may jitter.\n",
      "  raw = mne.io.read_raw_edf(file_location)\n",
      "D:\\Datasets\\ULM\\ulm_dataset.py:37: RuntimeWarning: 3 channel names are too long, have been truncated to 15 characters:\n",
      "['ShoulderAdductio', 'ShoulderFlexionE', 'ShoulderRotation']\n",
      "  raw = mne.io.read_raw_edf(file_location)\n",
      "D:\\Datasets\\ULM\\ulm_dataset.py:37: RuntimeWarning: Channel names are not unique, found duplicates for: {'eeg'}. Applying running numbers for duplicates.\n",
      "  raw = mne.io.read_raw_edf(file_location)\n"
     ]
    },
    {
     "name": "stdout",
     "output_type": "stream",
     "text": [
      "126 events found\n",
      "Event IDs: [  1536   1537   1538   1539   1540   1541   1542   2339 101394 101395\n",
      " 101396 101397 101398 101399 101400]\n",
      "6 matching events found\n",
      "No baseline correction applied\n",
      "Not setting metadata\n",
      "0 projection items activated\n",
      "Loading data for 6 events and 1537 original time points ...\n",
      "0 bad epochs dropped\n",
      "6 matching events found\n",
      "No baseline correction applied\n",
      "Not setting metadata\n",
      "0 projection items activated\n",
      "Loading data for 6 events and 1537 original time points ...\n",
      "0 bad epochs dropped\n",
      "6 matching events found\n",
      "No baseline correction applied\n",
      "Not setting metadata\n",
      "0 projection items activated\n",
      "Loading data for 6 events and 1537 original time points ...\n",
      "0 bad epochs dropped\n",
      "6 matching events found\n",
      "No baseline correction applied\n",
      "Not setting metadata\n",
      "0 projection items activated\n",
      "Loading data for 6 events and 1537 original time points ...\n",
      "0 bad epochs dropped\n",
      "6 matching events found\n",
      "No baseline correction applied\n",
      "Not setting metadata\n",
      "0 projection items activated\n",
      "Loading data for 6 events and 1537 original time points ...\n",
      "0 bad epochs dropped\n",
      "6 matching events found\n",
      "No baseline correction applied\n",
      "Not setting metadata\n",
      "0 projection items activated\n",
      "Loading data for 6 events and 1537 original time points ...\n",
      "0 bad epochs dropped\n",
      "Fitting ICA to data using 61 channels (please be patient, this may take a while)\n",
      "Inferring max_pca_components from picks\n",
      "Selection by number: 25 components\n",
      "Fitting ICA took 1.1s.\n",
      "EOG channel index for this subject is: [61 62 63]\n",
      "Filtering the data to remove DC offset to help distinguish blinks from saccades\n",
      "Setting up band-pass filter from 2 - 45 Hz\n",
      "Filter length of 8192 samples (16.000 sec) selected\n",
      "Setting up band-pass filter from 2 - 45 Hz\n",
      "Filter length of 8192 samples (16.000 sec) selected\n",
      "Setting up band-pass filter from 2 - 45 Hz\n",
      "Filter length of 8192 samples (16.000 sec) selected\n",
      "Setting up band-pass filter from 1 - 10 Hz\n",
      "Filter length of 8192 samples (16.000 sec) selected\n",
      "Now detecting blinks and generating corresponding events\n",
      "Number of EOG events detected : 54\n",
      "54 matching events found\n",
      "No baseline correction applied\n",
      "Not setting metadata\n",
      "Loading data for 54 events and 513 original time points ...\n",
      "0 bad epochs dropped\n",
      "Using EOG channel eog-r\n",
      "Transforming to ICA space (25 components)\n",
      "Zeroing out 2 ICA components\n",
      "Extracting EDF parameters from D:/Datasets/ULM/S01_ME/motorexecution_subject1_run8.gdf...\n",
      "GDF file detected\n",
      "Overlapping events detected. Use find_edf_events for the original events.\n",
      "Setting channel info structure...\n",
      "Interpolating stim channel. Events may jitter.\n",
      "Creating raw.info structure...\n",
      "3 channel names are too long, have been truncated to 15 characters:\n",
      "['ShoulderAdductio', 'ShoulderFlexionE', 'ShoulderRotation']\n",
      "Channel names are not unique, found duplicates for: {'eeg'}. Applying running numbers for duplicates.\n"
     ]
    },
    {
     "name": "stderr",
     "output_type": "stream",
     "text": [
      "C:\\Users\\mschr\\AppData\\Local\\conda\\conda\\envs\\mne\\lib\\site-packages\\mne\\io\\edf\\edf.py:1028: DeprecationWarning: The binary mode of fromstring is deprecated, as it behaves surprisingly on unicode inputs. Use frombuffer instead\n",
      "  etmode = np.fromstring(etmode, np.uint8).tolist()[0]\n",
      "D:\\Datasets\\ULM\\ulm_dataset.py:37: RuntimeWarning: Overlapping events detected. Use find_edf_events for the original events.\n",
      "  raw = mne.io.read_raw_edf(file_location)\n",
      "D:\\Datasets\\ULM\\ulm_dataset.py:37: RuntimeWarning: Interpolating stim channel. Events may jitter.\n",
      "  raw = mne.io.read_raw_edf(file_location)\n",
      "D:\\Datasets\\ULM\\ulm_dataset.py:37: RuntimeWarning: 3 channel names are too long, have been truncated to 15 characters:\n",
      "['ShoulderAdductio', 'ShoulderFlexionE', 'ShoulderRotation']\n",
      "  raw = mne.io.read_raw_edf(file_location)\n",
      "D:\\Datasets\\ULM\\ulm_dataset.py:37: RuntimeWarning: Channel names are not unique, found duplicates for: {'eeg'}. Applying running numbers for duplicates.\n",
      "  raw = mne.io.read_raw_edf(file_location)\n"
     ]
    },
    {
     "name": "stdout",
     "output_type": "stream",
     "text": [
      "126 events found\n",
      "Event IDs: [  1536   1537   1538   1539   1540   1541   1542   2339 101394 101395\n",
      " 101396 101397 101398 101399 101400]\n",
      "6 matching events found\n",
      "No baseline correction applied\n",
      "Not setting metadata\n",
      "0 projection items activated\n",
      "Loading data for 6 events and 1537 original time points ...\n",
      "0 bad epochs dropped\n",
      "6 matching events found\n",
      "No baseline correction applied\n",
      "Not setting metadata\n",
      "0 projection items activated\n",
      "Loading data for 6 events and 1537 original time points ...\n",
      "0 bad epochs dropped\n",
      "6 matching events found\n",
      "No baseline correction applied\n",
      "Not setting metadata\n",
      "0 projection items activated\n",
      "Loading data for 6 events and 1537 original time points ...\n",
      "0 bad epochs dropped\n",
      "6 matching events found\n",
      "No baseline correction applied\n",
      "Not setting metadata\n",
      "0 projection items activated\n",
      "Loading data for 6 events and 1537 original time points ...\n",
      "0 bad epochs dropped\n",
      "6 matching events found\n",
      "No baseline correction applied\n",
      "Not setting metadata\n",
      "0 projection items activated\n",
      "Loading data for 6 events and 1537 original time points ...\n",
      "0 bad epochs dropped\n",
      "6 matching events found\n",
      "No baseline correction applied\n",
      "Not setting metadata\n",
      "0 projection items activated\n",
      "Loading data for 6 events and 1537 original time points ...\n",
      "0 bad epochs dropped\n",
      "Fitting ICA to data using 61 channels (please be patient, this may take a while)\n",
      "Inferring max_pca_components from picks\n",
      "Selection by number: 25 components\n",
      "Fitting ICA took 1.0s.\n",
      "EOG channel index for this subject is: [61 62 63]\n",
      "Filtering the data to remove DC offset to help distinguish blinks from saccades\n",
      "Setting up band-pass filter from 2 - 45 Hz\n",
      "Filter length of 8192 samples (16.000 sec) selected\n",
      "Setting up band-pass filter from 2 - 45 Hz\n",
      "Filter length of 8192 samples (16.000 sec) selected\n",
      "Setting up band-pass filter from 2 - 45 Hz\n",
      "Filter length of 8192 samples (16.000 sec) selected\n",
      "Setting up band-pass filter from 1 - 10 Hz\n",
      "Filter length of 8192 samples (16.000 sec) selected\n",
      "Now detecting blinks and generating corresponding events\n",
      "Number of EOG events detected : 87\n",
      "87 matching events found\n",
      "No baseline correction applied\n",
      "Not setting metadata\n",
      "Loading data for 87 events and 513 original time points ...\n",
      "1 bad epochs dropped\n",
      "Using EOG channel eog-r\n",
      "Transforming to ICA space (25 components)\n",
      "Zeroing out 2 ICA components\n",
      "Extracting EDF parameters from D:/Datasets/ULM/S01_ME/motorexecution_subject1_run9.gdf...\n",
      "GDF file detected\n",
      "Overlapping events detected. Use find_edf_events for the original events.\n",
      "Setting channel info structure...\n",
      "Interpolating stim channel. Events may jitter.\n",
      "Creating raw.info structure...\n",
      "3 channel names are too long, have been truncated to 15 characters:\n",
      "['ShoulderAdductio', 'ShoulderFlexionE', 'ShoulderRotation']\n",
      "Channel names are not unique, found duplicates for: {'eeg'}. Applying running numbers for duplicates.\n"
     ]
    },
    {
     "name": "stderr",
     "output_type": "stream",
     "text": [
      "C:\\Users\\mschr\\AppData\\Local\\conda\\conda\\envs\\mne\\lib\\site-packages\\mne\\io\\edf\\edf.py:1028: DeprecationWarning: The binary mode of fromstring is deprecated, as it behaves surprisingly on unicode inputs. Use frombuffer instead\n",
      "  etmode = np.fromstring(etmode, np.uint8).tolist()[0]\n",
      "D:\\Datasets\\ULM\\ulm_dataset.py:37: RuntimeWarning: Overlapping events detected. Use find_edf_events for the original events.\n",
      "  raw = mne.io.read_raw_edf(file_location)\n",
      "D:\\Datasets\\ULM\\ulm_dataset.py:37: RuntimeWarning: Interpolating stim channel. Events may jitter.\n",
      "  raw = mne.io.read_raw_edf(file_location)\n",
      "D:\\Datasets\\ULM\\ulm_dataset.py:37: RuntimeWarning: 3 channel names are too long, have been truncated to 15 characters:\n",
      "['ShoulderAdductio', 'ShoulderFlexionE', 'ShoulderRotation']\n",
      "  raw = mne.io.read_raw_edf(file_location)\n",
      "D:\\Datasets\\ULM\\ulm_dataset.py:37: RuntimeWarning: Channel names are not unique, found duplicates for: {'eeg'}. Applying running numbers for duplicates.\n",
      "  raw = mne.io.read_raw_edf(file_location)\n"
     ]
    },
    {
     "name": "stdout",
     "output_type": "stream",
     "text": [
      "126 events found\n",
      "Event IDs: [  1536   1537   1538   1539   1540   1541   1542   2339 101394 101395\n",
      " 101396 101397 101398 101399 101400]\n",
      "6 matching events found\n",
      "No baseline correction applied\n",
      "Not setting metadata\n",
      "0 projection items activated\n",
      "Loading data for 6 events and 1537 original time points ...\n",
      "0 bad epochs dropped\n",
      "6 matching events found\n",
      "No baseline correction applied\n",
      "Not setting metadata\n",
      "0 projection items activated\n",
      "Loading data for 6 events and 1537 original time points ...\n",
      "0 bad epochs dropped\n",
      "6 matching events found\n",
      "No baseline correction applied\n",
      "Not setting metadata\n",
      "0 projection items activated\n",
      "Loading data for 6 events and 1537 original time points ...\n",
      "0 bad epochs dropped\n",
      "6 matching events found\n",
      "No baseline correction applied\n",
      "Not setting metadata\n",
      "0 projection items activated\n",
      "Loading data for 6 events and 1537 original time points ...\n",
      "0 bad epochs dropped\n",
      "6 matching events found\n",
      "No baseline correction applied\n",
      "Not setting metadata\n",
      "0 projection items activated\n",
      "Loading data for 6 events and 1537 original time points ...\n",
      "0 bad epochs dropped\n",
      "6 matching events found\n",
      "No baseline correction applied\n",
      "Not setting metadata\n",
      "0 projection items activated\n",
      "Loading data for 6 events and 1537 original time points ...\n",
      "0 bad epochs dropped\n",
      "Fitting ICA to data using 61 channels (please be patient, this may take a while)\n",
      "Inferring max_pca_components from picks\n",
      "Selection by number: 25 components\n",
      "Fitting ICA took 1.2s.\n",
      "EOG channel index for this subject is: [61 62 63]\n",
      "Filtering the data to remove DC offset to help distinguish blinks from saccades\n",
      "Setting up band-pass filter from 2 - 45 Hz\n",
      "Filter length of 8192 samples (16.000 sec) selected\n",
      "Setting up band-pass filter from 2 - 45 Hz\n",
      "Filter length of 8192 samples (16.000 sec) selected\n",
      "Setting up band-pass filter from 2 - 45 Hz\n",
      "Filter length of 8192 samples (16.000 sec) selected\n",
      "Setting up band-pass filter from 1 - 10 Hz\n",
      "Filter length of 8192 samples (16.000 sec) selected\n",
      "Now detecting blinks and generating corresponding events\n",
      "Number of EOG events detected : 58\n",
      "58 matching events found\n",
      "No baseline correction applied\n",
      "Not setting metadata\n",
      "Loading data for 58 events and 513 original time points ...\n",
      "0 bad epochs dropped\n",
      "Using EOG channel eog-r\n",
      "Transforming to ICA space (25 components)\n",
      "Zeroing out 0 ICA components\n",
      "Extracting EDF parameters from D:/Datasets/ULM/S01_ME/motorexecution_subject1_run10.gdf...\n",
      "GDF file detected\n",
      "Overlapping events detected. Use find_edf_events for the original events.\n",
      "Setting channel info structure...\n",
      "Interpolating stim channel. Events may jitter.\n",
      "Creating raw.info structure...\n",
      "3 channel names are too long, have been truncated to 15 characters:\n",
      "['ShoulderAdductio', 'ShoulderFlexionE', 'ShoulderRotation']\n",
      "Channel names are not unique, found duplicates for: {'eeg'}. Applying running numbers for duplicates.\n"
     ]
    },
    {
     "name": "stderr",
     "output_type": "stream",
     "text": [
      "C:\\Users\\mschr\\AppData\\Local\\conda\\conda\\envs\\mne\\lib\\site-packages\\mne\\io\\edf\\edf.py:1028: DeprecationWarning: The binary mode of fromstring is deprecated, as it behaves surprisingly on unicode inputs. Use frombuffer instead\n",
      "  etmode = np.fromstring(etmode, np.uint8).tolist()[0]\n",
      "D:\\Datasets\\ULM\\ulm_dataset.py:37: RuntimeWarning: Overlapping events detected. Use find_edf_events for the original events.\n",
      "  raw = mne.io.read_raw_edf(file_location)\n",
      "D:\\Datasets\\ULM\\ulm_dataset.py:37: RuntimeWarning: Interpolating stim channel. Events may jitter.\n",
      "  raw = mne.io.read_raw_edf(file_location)\n",
      "D:\\Datasets\\ULM\\ulm_dataset.py:37: RuntimeWarning: 3 channel names are too long, have been truncated to 15 characters:\n",
      "['ShoulderAdductio', 'ShoulderFlexionE', 'ShoulderRotation']\n",
      "  raw = mne.io.read_raw_edf(file_location)\n",
      "D:\\Datasets\\ULM\\ulm_dataset.py:37: RuntimeWarning: Channel names are not unique, found duplicates for: {'eeg'}. Applying running numbers for duplicates.\n",
      "  raw = mne.io.read_raw_edf(file_location)\n"
     ]
    },
    {
     "name": "stdout",
     "output_type": "stream",
     "text": [
      "126 events found\n",
      "Event IDs: [  1536   1537   1538   1539   1540   1541   1542   2339 101394 101395\n",
      " 101396 101397 101398 101399 101400]\n",
      "6 matching events found\n",
      "No baseline correction applied\n",
      "Not setting metadata\n",
      "0 projection items activated\n",
      "Loading data for 6 events and 1537 original time points ...\n",
      "0 bad epochs dropped\n",
      "6 matching events found\n",
      "No baseline correction applied\n",
      "Not setting metadata\n",
      "0 projection items activated\n",
      "Loading data for 6 events and 1537 original time points ...\n",
      "0 bad epochs dropped\n",
      "6 matching events found\n",
      "No baseline correction applied\n",
      "Not setting metadata\n",
      "0 projection items activated\n",
      "Loading data for 6 events and 1537 original time points ...\n",
      "0 bad epochs dropped\n",
      "6 matching events found\n",
      "No baseline correction applied\n",
      "Not setting metadata\n",
      "0 projection items activated\n",
      "Loading data for 6 events and 1537 original time points ...\n",
      "0 bad epochs dropped\n",
      "6 matching events found\n",
      "No baseline correction applied\n",
      "Not setting metadata\n",
      "0 projection items activated\n",
      "Loading data for 6 events and 1537 original time points ...\n",
      "0 bad epochs dropped\n",
      "6 matching events found\n",
      "No baseline correction applied\n",
      "Not setting metadata\n",
      "0 projection items activated\n",
      "Loading data for 6 events and 1537 original time points ...\n",
      "0 bad epochs dropped\n",
      "Fitting ICA to data using 61 channels (please be patient, this may take a while)\n",
      "Inferring max_pca_components from picks\n",
      "Selection by number: 25 components\n",
      "Fitting ICA took 1.0s.\n",
      "EOG channel index for this subject is: [61 62 63]\n",
      "Filtering the data to remove DC offset to help distinguish blinks from saccades\n",
      "Setting up band-pass filter from 2 - 45 Hz\n",
      "Filter length of 8192 samples (16.000 sec) selected\n",
      "Setting up band-pass filter from 2 - 45 Hz\n",
      "Filter length of 8192 samples (16.000 sec) selected\n",
      "Setting up band-pass filter from 2 - 45 Hz\n",
      "Filter length of 8192 samples (16.000 sec) selected\n",
      "Setting up band-pass filter from 1 - 10 Hz\n",
      "Filter length of 8192 samples (16.000 sec) selected\n",
      "Now detecting blinks and generating corresponding events\n",
      "Number of EOG events detected : 53\n",
      "53 matching events found\n",
      "No baseline correction applied\n",
      "Not setting metadata\n",
      "Loading data for 53 events and 513 original time points ...\n",
      "0 bad epochs dropped\n",
      "Using EOG channel eog-r\n",
      "Transforming to ICA space (25 components)\n",
      "Zeroing out 0 ICA components\n",
      "1620 events found\n",
      "Event IDs: [  3072   3074   3076   3078   3080   3082   3084   4678   5000   5001\n",
      "   5002   5003   5004   5005 202788 202790 202792 202794 202796 202798\n",
      " 202800]\n",
      "42 matching events found\n",
      "No baseline correction applied\n",
      "Not setting metadata\n",
      "0 projection items activated\n",
      "Loading data for 42 events and 513 original time points ...\n",
      "0 bad epochs dropped\n",
      "42 matching events found\n",
      "No baseline correction applied\n",
      "Not setting metadata\n",
      "0 projection items activated\n",
      "Loading data for 42 events and 513 original time points ...\n",
      "0 bad epochs dropped\n",
      "42 matching events found\n",
      "No baseline correction applied\n",
      "Not setting metadata\n",
      "0 projection items activated\n",
      "Loading data for 42 events and 513 original time points ...\n",
      "0 bad epochs dropped\n",
      "42 matching events found\n",
      "No baseline correction applied\n",
      "Not setting metadata\n",
      "0 projection items activated\n",
      "Loading data for 42 events and 513 original time points ...\n",
      "0 bad epochs dropped\n",
      "42 matching events found\n",
      "No baseline correction applied\n",
      "Not setting metadata\n",
      "0 projection items activated\n",
      "Loading data for 42 events and 513 original time points ...\n",
      "0 bad epochs dropped\n",
      "42 matching events found\n",
      "No baseline correction applied\n",
      "Not setting metadata\n",
      "0 projection items activated\n",
      "Loading data for 42 events and 513 original time points ...\n",
      "0 bad epochs dropped\n",
      "42 matching events found\n",
      "No baseline correction applied\n",
      "Not setting metadata\n",
      "0 projection items activated\n",
      "Loading data for 42 events and 513 original time points ...\n",
      "0 bad epochs dropped\n",
      "42 matching events found\n",
      "No baseline correction applied\n",
      "Not setting metadata\n",
      "0 projection items activated\n",
      "Loading data for 42 events and 513 original time points ...\n",
      "0 bad epochs dropped\n",
      "42 matching events found\n",
      "No baseline correction applied\n",
      "Not setting metadata\n",
      "0 projection items activated\n",
      "Loading data for 42 events and 513 original time points ...\n",
      "0 bad epochs dropped\n"
     ]
    }
   ],
   "source": [
    "num_trials = 10\n",
    "subjects = range(1, 2)\n",
    "trials = range(1, num_trials+1) \n",
    "tmin, tmax = -1., 0.\n",
    "event_id = dict(flex = 5000, extend = 5001, sup = 5002, pro = 5003, close = 5004, hopen = 5005, rest = 1542)\n",
    "\n",
    "# fb1, fb2, fb3, fb4, fb5, fb6, fb7, fb8, fb9 = [dict() for x in range(9)]\n",
    "# filter_band_array = [fb1, fb2, fb3, fb4, fb5, fb6, fb7, fb8, fb9]\n",
    "\n",
    "fb1, fb2, fb3, fb4, fb5, fb6, fb7, fb8, fb9 = [dict() for x in range(9)]\n",
    "filter_band_array = [fb1, fb2, fb3, fb4, fb5, fb6, fb7, fb8, fb9]\n",
    "\n",
    "for subject in subjects:\n",
    "    list_of_subject_raws = []\n",
    "    subject_name = 'S' + str(subject)\n",
    "    subject_labels, subject_predictions = [], []\n",
    "    \n",
    "    for trial in trials:\n",
    "        events, raw = create_event_array_for_movement_onset(subject, trial)\n",
    "        current_raw = filter_with_ica(raw, event_id, 3.0)\n",
    "        list_of_subject_raws.append(current_raw)\n",
    "        \n",
    "        if trial == num_trials:\n",
    "            subject_raws = mne.concatenate_raws(list_of_subject_raws)\n",
    "            events_raw = mne.find_events(subject_raws, stim_channel='STIM', shortest_event=1)\n",
    "            picks = pick_types(subject_raws.info, eeg=True, stim=False, eog=False)\n",
    "            \n",
    "            raw = subject_raws\n",
    "            for i, fb in enumerate(filter_band_array):\n",
    "                fb[subject_name] = create_epochs(raw, i*4., (i*4.)+4., events, event_id, picks)"
   ]
  },
  {
   "cell_type": "code",
   "execution_count": 278,
   "metadata": {},
   "outputs": [
    {
     "data": {
      "text/plain": [
       "<Epochs  |   42 events (all good), -1 - 0 sec, baseline off, ~10.2 MB, data loaded,\n",
       " 'close': 6\n",
       " 'extend': 6\n",
       " 'flex': 6\n",
       " 'hopen': 6\n",
       " 'pro': 6\n",
       " 'rest': 6\n",
       " 'sup': 6>"
      ]
     },
     "execution_count": 278,
     "metadata": {},
     "output_type": "execute_result"
    }
   ],
   "source": [
    "fb2['S1']"
   ]
  },
  {
   "cell_type": "code",
   "execution_count": 288,
   "metadata": {
    "scrolled": true
   },
   "outputs": [
    {
     "name": "stdout",
     "output_type": "stream",
     "text": [
      "1620 events found\n",
      "Event IDs: [  3072   3074   3076   3078   3080   3082   3084   4678   5000   5001\n",
      "   5002   5003   5004   5005 202788 202790 202792 202794 202796 202798\n",
      " 202800]\n",
      "42 matching events found\n",
      "No baseline correction applied\n",
      "Not setting metadata\n",
      "0 projection items activated\n",
      "Loading data for 42 events and 513 original time points ...\n",
      "0 bad epochs dropped\n",
      "42 matching events found\n",
      "No baseline correction applied\n",
      "Not setting metadata\n",
      "0 projection items activated\n",
      "Loading data for 42 events and 513 original time points ...\n",
      "0 bad epochs dropped\n",
      "42 matching events found\n",
      "No baseline correction applied\n",
      "Not setting metadata\n",
      "0 projection items activated\n",
      "Loading data for 42 events and 513 original time points ...\n",
      "0 bad epochs dropped\n",
      "42 matching events found\n",
      "No baseline correction applied\n",
      "Not setting metadata\n",
      "0 projection items activated\n",
      "Loading data for 42 events and 513 original time points ...\n",
      "0 bad epochs dropped\n",
      "42 matching events found\n",
      "No baseline correction applied\n",
      "Not setting metadata\n",
      "0 projection items activated\n",
      "Loading data for 42 events and 513 original time points ...\n",
      "0 bad epochs dropped\n",
      "42 matching events found\n",
      "No baseline correction applied\n",
      "Not setting metadata\n",
      "0 projection items activated\n",
      "Loading data for 42 events and 513 original time points ...\n",
      "0 bad epochs dropped\n",
      "42 matching events found\n",
      "No baseline correction applied\n",
      "Not setting metadata\n",
      "0 projection items activated\n",
      "Loading data for 42 events and 513 original time points ...\n",
      "0 bad epochs dropped\n",
      "42 matching events found\n",
      "No baseline correction applied\n",
      "Not setting metadata\n",
      "0 projection items activated\n",
      "Loading data for 42 events and 513 original time points ...\n",
      "0 bad epochs dropped\n",
      "42 matching events found\n",
      "No baseline correction applied\n",
      "Not setting metadata\n",
      "0 projection items activated\n",
      "Loading data for 42 events and 513 original time points ...\n",
      "0 bad epochs dropped\n"
     ]
    }
   ],
   "source": [
    "num_trials = 10\n",
    "subjects = range(1, 2)\n",
    "trials = range(1, num_trials+1) \n",
    "tmin, tmax = -1., 0.\n",
    "event_id = dict(flex = 5000, extend = 5001, sup = 5002, pro = 5003, close = 5004, hopen = 5005, rest = 1542)\n",
    "\n",
    "# fb1, fb2, fb3, fb4, fb5, fb6, fb7, fb8, fb9 = [dict() for x in range(9)]\n",
    "# filter_band_array = [fb1, fb2, fb3, fb4, fb5, fb6, fb7, fb8, fb9]\n",
    "\n",
    "fb1, fb2, fb3, fb4, fb5, fb6, fb7, fb8, fb9 = [dict() for x in range(9)]\n",
    "filter_band_array = [fb1, fb2, fb3, fb4, fb5, fb6, fb7, fb8, fb9]\n",
    "\n",
    "for subject in subjects:\n",
    "    subject_name = 'S' + str(subject)\n",
    "    subject_labels, subject_predictions = [], []\n",
    "    \n",
    "    concat_events = mne.find_events(concat_raw, stim_channel='STIM', shortest_event=1)\n",
    "    picks = mne.pick_types(concat_raw.info, eeg=True, eog=False, stim=False)\n",
    "    \n",
    "    for i, fb in enumerate(filter_band_array):\n",
    "        fb[subject_name] = create_epochs(concat_raw, i*4., (i*4.)+4., events, event_id, picks)"
   ]
  },
  {
   "cell_type": "code",
   "execution_count": 290,
   "metadata": {},
   "outputs": [
    {
     "data": {
      "text/plain": [
       "{'S1': <Epochs  |   42 events (all good), -1 - 0 sec, baseline off, ~10.2 MB, data loaded,\n",
       "  'close': 6\n",
       "  'extend': 6\n",
       "  'flex': 6\n",
       "  'hopen': 6\n",
       "  'pro': 6\n",
       "  'rest': 6\n",
       "  'sup': 6>}"
      ]
     },
     "execution_count": 290,
     "metadata": {},
     "output_type": "execute_result"
    }
   ],
   "source": [
    "fb2"
   ]
  },
  {
   "cell_type": "markdown",
   "metadata": {},
   "source": [
    "## Test multiple bands"
   ]
  },
  {
   "cell_type": "code",
   "execution_count": 280,
   "metadata": {},
   "outputs": [],
   "source": [
    "import itertools\n",
    "filter_band_string = ['fb1', 'fb2', 'fb3', 'fb4', 'fb5', 'fb6', 'fb7', 'fb8', 'fb9']\n",
    "#filter_band_string = ['fb4', 'fb5', 'fb7']\n",
    "csp_list = ['csp_'+ x for x in filter_band_string]\n",
    "lda_list = ['lda_'+ x for x in filter_band_string]\n",
    "\n",
    "csp = dict()\n",
    "lda = dict()\n",
    "for csp_name, lda_name in zip(csp_list, lda_list):\n",
    "    csp[csp_name] = CSP(n_components=4, reg='shrinkage', log=False, norm_trace=False)\n",
    "    lda[lda_name] = LinearDiscriminantAnalysis(n_components=1, shrinkage='auto', solver='lsqr')\n",
    "    \n",
    "event_id = dict(flex = 5000,extend = 5001, sup = 5002, pro = 5003, close = 5004, hopen = 5005, rest = 1542)\n",
    "combinations = list(itertools.combinations(event_id,2))"
   ]
  },
  {
   "cell_type": "code",
   "execution_count": null,
   "metadata": {},
   "outputs": [],
   "source": [
    "# Define empty data\n",
    "list_events =['flex', 'extend', 'sup', 'pro', 'close', 'hopen']\n",
    "all_events =['flex', 'extend', 'sup', 'pro', 'close', 'hopen', 'rest']\n",
    "#all_events =['flex', 'extend']\n",
    "\n",
    "total_predictions, total_labels = [], []\n",
    "combinations = list(itertools.combinations(all_events, 2)) # Find the combinations\n",
    "subject_array, event_array, all_acc = [], [], []\n",
    "for subject in list(fb1.keys())[:1]: # For each subject\n",
    "    save_sfs = dict()\n",
    "    for event_combo in combinations: # For each combination\n",
    "        combo_str = event_combo[0] + '_' + event_combo[1]\n",
    "        print('*********************' + combo_str)\n",
    "        ev0, ev1 = dict(), dict()\n",
    "        event_dict = [ev0, ev1]\n",
    "        filter_sfs = dict()\n",
    "        \n",
    "        train_acc, test_acc = [], []\n",
    "        true_labels, predicted_labels, instance_labels = [], [], []\n",
    "        for j, (fb, csp_name, lda_name) in enumerate(zip(filter_band_array,csp_list, lda_list)):\n",
    "            filter_name = filter_band_string[j]\n",
    "            for current_event, data in zip(event_combo, event_dict):\n",
    "                i = 0\n",
    "                temp_train_data, temp_train_labels = select_train_epochs(fb, subject, current_event)\n",
    "                temp_test_data, temp_test_labels = select_test_epochs(fb, subject, current_event)\n",
    "                \n",
    "                if i == 0: # Create the first entries\n",
    "                    data['train_data'] = temp_train_data\n",
    "                    data['train_labels'] = temp_train_labels\n",
    "                    data['test_data'] = temp_test_data\n",
    "                    data['test_labels'] = temp_test_labels\n",
    "                    i = 1\n",
    "                    \n",
    "                else: # Append the data\n",
    "                    data['train_data'] = np.append(data['train_data'], temp_train_data, axis = 0) \n",
    "                    data['test_data'] = np.append(data['test_data'], temp_test_data, axis = 0)\n",
    "\n",
    "            x_train = np.concatenate([ev0['train_data'], ev1['train_data']], axis = 0)\n",
    "            x_test = np.concatenate([ev0['test_data'], ev1['test_data']], axis = 0)\n",
    "            y_train = np.concatenate([ev0['train_labels'], ev1['train_labels']], axis = None)\n",
    "            y_test = np.concatenate([ev0['test_labels'], ev1['test_labels']], axis = None)\n",
    "\n",
    "            clf = Pipeline([('CSP', csp[csp_name]), ('LDA', lda[lda_name])])\n",
    "            make_prediciton = SFS(clf, k_features=20, forward=True, floating=False, scoring='balanced_accuracy', cv=3, n_jobs=-1)\n",
    "            sfs = make_prediciton.fit(x_train, y_train, custom_feature_names=subject_raws.ch_names[0:61])\n",
    "\n",
    "            new_data = {filter_name: sfs}\n",
    "            filter_sfs.update(new_data)\n",
    "            #####################################################################################\n",
    "            \n",
    "            temp_train = sfs.transform(x_train)\n",
    "            temp_test = sfs.transform(x_test)\n",
    "            \n",
    "            # fit transform csp\n",
    "            x_csp_train = csp[csp_name].fit_transform(temp_train, y_train)\n",
    "            x_csp_test = csp[csp_name].transform(temp_test)\n",
    "            \n",
    "            # fit lda\n",
    "            lda[lda_name].fit(x_csp_train, y_train)\n",
    "#             y_train_score = lda[lda_name].score(x_csp_train, y_train)\n",
    "#             print('%s score: %.2f' % (filter_name, y_train_score))\n",
    "            y_train_score = sfs.k_score_\n",
    "            print('%s score: %.2f' % (filter_name, y_train_score))\n",
    "            y_pred = lda[lda_name].predict(x_csp_test)\n",
    "            acc = float((y_test == y_pred).sum()) / y_pred.shape[0]\n",
    "            print('Test set accuracy: %.2f %%' % (acc * 100))\n",
    "            \n",
    "            # Save train accuracies from each filter bank\n",
    "            train_acc.append(y_train_score)\n",
    "            # Save test accuracies from each filter bank\n",
    "            test_acc.append(acc)\n",
    "            # Record the predictions on the test set\n",
    "            true_labels.append(y_test)\n",
    "#             # Find the max accuracy in training\n",
    "            predicted_labels = y_pred\n",
    "            instance_labels.append(predicted_labels)\n",
    "        \n",
    "        new_array = []\n",
    "        yoyo = np.array(instance_labels)\n",
    "        for i in range(yoyo.shape[1]):\n",
    "            temp = yoyo[:,i]\n",
    "            count = Counter(temp)\n",
    "            blah = count.most_common(1)\n",
    "            new_array.append(blah[0][0])\n",
    "        # Find the maximum train_acc\n",
    "        index = np.argmax(train_acc)\n",
    "        #total_predictions.append(instance_labels[index])\n",
    "        total_predictions.append(new_array)\n",
    "        total_labels.append(y_test) \n",
    "        event_acc = train_acc + test_acc\n",
    "        all_acc.append(event_acc)\n",
    "        subject_array.append(subject)\n",
    "        event_array.append(combo_str)\n",
    "            \n",
    "        new_event_data = {combo_str:filter_sfs}\n",
    "        save_sfs.update(new_event_data)\n"
   ]
  },
  {
   "cell_type": "code",
   "execution_count": null,
   "metadata": {},
   "outputs": [],
   "source": []
  },
  {
   "cell_type": "code",
   "execution_count": null,
   "metadata": {},
   "outputs": [],
   "source": []
  },
  {
   "cell_type": "code",
   "execution_count": null,
   "metadata": {},
   "outputs": [],
   "source": []
  },
  {
   "cell_type": "code",
   "execution_count": null,
   "metadata": {},
   "outputs": [],
   "source": []
  },
  {
   "cell_type": "code",
   "execution_count": null,
   "metadata": {},
   "outputs": [],
   "source": []
  },
  {
   "cell_type": "code",
   "execution_count": 122,
   "metadata": {},
   "outputs": [],
   "source": [
    "csp = CSP(n_components=4, reg=None, log=True, norm_trace=False)\n",
    "move_labels = np.ones(len(movement_epochs.events[:,2]), dtype = np.uint8)\n",
    "rest_labels = np.zeros(len(rest_epochs.events[:,2]), dtype = np.uint8)\n",
    "labels = np.concatenate((move_labels, rest_labels), axis = None)\n",
    "data = np.concatenate((movement_epochs, rest_epochs), axis = 0)"
   ]
  },
  {
   "cell_type": "code",
   "execution_count": 123,
   "metadata": {},
   "outputs": [
    {
     "data": {
      "text/plain": [
       "array([1, 1, 1, 1, 1, 1, 1, 1, 1, 1, 1, 1, 1, 1, 1, 1, 1, 1, 1, 1, 1, 1,\n",
       "       1, 1, 1, 1, 1, 1, 1, 1, 1, 1, 1, 1, 1, 1, 1, 1, 1, 1, 1, 1, 1, 1,\n",
       "       1, 1, 1, 1, 1, 1, 1, 1, 1, 1, 1, 1, 1, 1, 1, 1, 1, 1, 1, 1, 1, 1,\n",
       "       1, 1, 1, 1, 1, 1, 1, 1, 1, 1, 1, 1, 1, 1, 1, 1, 1, 1, 1, 1, 1, 1,\n",
       "       1, 1, 1, 1, 1, 1, 1, 1, 1, 1, 1, 1, 1, 1, 1, 1, 1, 1, 1, 1, 1, 1,\n",
       "       1, 1, 1, 1, 1, 1, 1, 1, 1, 1, 1, 1, 1, 1, 1, 1, 1, 1, 1, 1, 1, 1,\n",
       "       1, 1, 1, 1, 1, 1, 1, 1, 1, 1, 1, 1, 1, 1, 1, 1, 1, 1, 1, 1, 1, 1,\n",
       "       1, 1, 1, 1, 1, 1, 1, 1, 1, 1, 1, 1, 1, 1, 1, 1, 1, 1, 1, 1, 1, 1,\n",
       "       1, 1, 1, 1, 1, 1, 1, 1, 1, 1, 1, 1, 1, 1, 1, 1, 1, 1, 1, 1, 1, 1,\n",
       "       1, 1, 1, 1, 1, 1, 1, 1, 1, 1, 1, 1, 1, 1, 1, 1, 1, 1, 1, 1, 1, 1,\n",
       "       1, 1, 1, 1, 1, 1, 1, 1, 1, 1, 1, 1, 1, 1, 1, 1, 1, 1, 1, 1, 1, 1,\n",
       "       1, 1, 1, 1, 1, 1, 1, 1, 1, 1, 1, 1, 1, 1, 1, 1, 1, 1, 1, 1, 1, 1,\n",
       "       1, 1, 1, 1, 1, 1, 1, 1, 1, 1, 1, 1, 1, 1, 1, 1, 1, 1, 1, 1, 1, 1,\n",
       "       1, 1, 1, 1, 1, 1, 1, 1, 1, 1, 1, 1, 1, 1, 1, 1, 1, 1, 1, 1, 1, 1,\n",
       "       1, 1, 1, 1, 1, 1, 1, 1, 1, 1, 1, 1, 1, 1, 1, 1, 1, 1, 1, 1, 1, 1,\n",
       "       1, 1, 1, 1, 1, 1, 1, 1, 1, 1, 1, 1, 1, 1, 1, 1, 1, 1, 1, 1, 1, 1,\n",
       "       1, 1, 1, 1, 1, 1, 1, 1, 0, 0, 0, 0, 0, 0, 0, 0, 0, 0, 0, 0, 0, 0,\n",
       "       0, 0, 0, 0, 0, 0, 0, 0, 0, 0, 0, 0, 0, 0, 0, 0, 0, 0, 0, 0, 0, 0,\n",
       "       0, 0, 0, 0, 0, 0, 0, 0, 0, 0, 0, 0, 0, 0, 0, 0, 0, 0, 0, 0, 0, 0,\n",
       "       0, 0], dtype=uint8)"
      ]
     },
     "execution_count": 123,
     "metadata": {},
     "output_type": "execute_result"
    }
   ],
   "source": [
    "labels"
   ]
  },
  {
   "cell_type": "code",
   "execution_count": 114,
   "metadata": {},
   "outputs": [
    {
     "data": {
      "text/plain": [
       "(420, 61, 257)"
      ]
     },
     "execution_count": 114,
     "metadata": {},
     "output_type": "execute_result"
    }
   ],
   "source": [
    "data.shape"
   ]
  },
  {
   "cell_type": "code",
   "execution_count": 115,
   "metadata": {},
   "outputs": [],
   "source": [
    "from sklearn.model_selection import train_test_split\n",
    "X_train, X_test, y_train, y_test = train_test_split(data, labels, test_size=0.20, random_state=42)"
   ]
  },
  {
   "cell_type": "code",
   "execution_count": 116,
   "metadata": {},
   "outputs": [
    {
     "name": "stdout",
     "output_type": "stream",
     "text": [
      "X_train is  (336, 61, 257)\n",
      "X_test is  (84, 61, 257)\n",
      "y_train is  (336,)\n",
      "y_test is  (84,)\n"
     ]
    }
   ],
   "source": [
    "print('X_train is ', X_train.shape)\n",
    "print('X_test is ', X_test.shape)\n",
    "print('y_train is ', y_train.shape)\n",
    "print('y_test is ', y_test.shape)"
   ]
  },
  {
   "cell_type": "code",
   "execution_count": 124,
   "metadata": {},
   "outputs": [],
   "source": [
    "from sklearn.pipeline import Pipeline, make_pipeline\n",
    "from sklearn.discriminant_analysis import LinearDiscriminantAnalysis\n",
    "from sklearn.model_selection import ShuffleSplit, cross_val_score\n",
    "from mne.decoding import Scaler, Vectorizer\n",
    "\n",
    "cv = ShuffleSplit(5, test_size=0.2, random_state=42)\n",
    "cv_split = cv.split(data)"
   ]
  },
  {
   "cell_type": "code",
   "execution_count": 125,
   "metadata": {
    "scrolled": true
   },
   "outputs": [
    {
     "name": "stdout",
     "output_type": "stream",
     "text": [
      "Estimating covariance using EMPIRICAL\n",
      "Done.\n",
      "Estimating covariance using EMPIRICAL\n",
      "Done.\n",
      "Estimating covariance using EMPIRICAL\n",
      "Done.\n",
      "Estimating covariance using EMPIRICAL\n",
      "Done.\n",
      "Estimating covariance using EMPIRICAL\n",
      "Done.\n",
      "Estimating covariance using EMPIRICAL\n",
      "Done.\n",
      "Estimating covariance using EMPIRICAL\n",
      "Done.\n",
      "Estimating covariance using EMPIRICAL\n",
      "Done.\n",
      "Estimating covariance using EMPIRICAL\n",
      "Done.\n",
      "Estimating covariance using EMPIRICAL\n",
      "Done.\n"
     ]
    }
   ],
   "source": [
    "# Assemble a classifier\n",
    "lda = LinearDiscriminantAnalysis()\n",
    "csp = CSP(n_components=4, reg=None, log=True, norm_trace=False)\n",
    "\n",
    "# Use scikit-learn Pipeline with cross_val_score function\n",
    "#clf = Pipeline([Scaler(movement_epochs.info), Vectorizer(), ('CSP', csp), ('LDA', lda)])\n",
    "\n",
    "clf =  make_pipeline(Scaler(movement_epochs.info), csp, lda)\n",
    "scores = cross_val_score(clf, data, labels, cv=cv, n_jobs=1)"
   ]
  },
  {
   "cell_type": "code",
   "execution_count": 126,
   "metadata": {},
   "outputs": [
    {
     "name": "stdout",
     "output_type": "stream",
     "text": [
      "Classification accuracy: 0.842857 / Chance level: 0.857143\n",
      "Estimating covariance using EMPIRICAL\n",
      "Done.\n",
      "Estimating covariance using EMPIRICAL\n",
      "Done.\n"
     ]
    },
    {
     "data": {
      "image/png": "[encoded data removed]",
      "text/plain": [
       "<Figure size 810x189 with 5 Axes>"
      ]
     },
     "metadata": {},
     "output_type": "display_data"
    },
    {
     "data": {
      "image/png": "[encoded data removed]",
      "text/plain": [
       "<Figure size 810x189 with 5 Axes>"
      ]
     },
     "execution_count": 126,
     "metadata": {},
     "output_type": "execute_result"
    }
   ],
   "source": [
    "# Printing the results\n",
    "class_balance = np.mean(labels == labels[0])\n",
    "class_balance = max(class_balance, 1. - class_balance)\n",
    "print(\"Classification accuracy: %f / Chance level: %f\" % (np.mean(scores), class_balance))\n",
    "# plot CSP patterns estimated on full data for visualization\n",
    "csp.fit_transform(data, labels)\n",
    "\n",
    "layout = read_layout('EEG1005')\n",
    "csp.plot_patterns(movement_epochs.info, layout=layout, ch_type='eeg', units='Unknown', size=1.5)"
   ]
  },
  {
   "cell_type": "code",
   "execution_count": 120,
   "metadata": {},
   "outputs": [
    {
     "data": {
      "text/plain": [
       "array([0.79761905, 0.8452381 , 0.82142857, 0.83333333, 0.8452381 ])"
      ]
     },
     "execution_count": 120,
     "metadata": {},
     "output_type": "execute_result"
    }
   ],
   "source": [
    "scores"
   ]
  },
  {
   "cell_type": "code",
   "execution_count": null,
   "metadata": {},
   "outputs": [],
   "source": []
  },
  {
   "cell_type": "markdown",
   "metadata": {},
   "source": [
    "Now lets filter the data for alpha 8-12 Hz and beta 16-24 Hz. By filtering ther data becomes more"
   ]
  },
  {
   "cell_type": "code",
   "execution_count": null,
   "metadata": {},
   "outputs": [],
   "source": []
  },
  {
   "cell_type": "code",
   "execution_count": 247,
   "metadata": {},
   "outputs": [],
   "source": [
    "psd_multitaper??"
   ]
  },
  {
   "cell_type": "code",
   "execution_count": null,
   "metadata": {},
   "outputs": [],
   "source": []
  },
  {
   "cell_type": "code",
   "execution_count": null,
   "metadata": {},
   "outputs": [],
   "source": []
  },
  {
   "cell_type": "code",
   "execution_count": null,
   "metadata": {},
   "outputs": [],
   "source": []
  },
  {
   "cell_type": "code",
   "execution_count": null,
   "metadata": {},
   "outputs": [],
   "source": []
  },
  {
   "cell_type": "code",
   "execution_count": null,
   "metadata": {},
   "outputs": [],
   "source": []
  },
  {
   "cell_type": "code",
   "execution_count": null,
   "metadata": {},
   "outputs": [],
   "source": []
  }
 ],
 "metadata": {
  "kernelspec": {
   "display_name": "Python [conda env:mne]",
   "language": "python",
   "name": "conda-env-mne-py"
  },
  "language_info": {
   "codemirror_mode": {
    "name": "ipython",
    "version": 3
   },
   "file_extension": ".py",
   "mimetype": "text/x-python",
   "name": "python",
   "nbconvert_exporter": "python",
   "pygments_lexer": "ipython3",
   "version": "3.6.5"
  }
 },
 "nbformat": 4,
 "nbformat_minor": 2
}

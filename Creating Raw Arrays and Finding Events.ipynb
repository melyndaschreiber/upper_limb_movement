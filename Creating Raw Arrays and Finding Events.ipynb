{
 "cells": [
  {
   "cell_type": "markdown",
   "metadata": {},
   "source": [
    "# Loading Data and Finding Events"
   ]
  },
  {
   "cell_type": "markdown",
   "metadata": {},
   "source": [
    "The following is a brief tutorial on how to load data from the upper limb dataset as provided in `Upper limb movements can be decoded from the time-domain of low-frequency EEG`"
   ]
  },
  {
   "cell_type": "code",
   "execution_count": 4,
   "metadata": {},
   "outputs": [],
   "source": [
    "import pandas as pd\n",
    "import numpy as np\n",
    "import mne\n",
    "from mne.channels import read_montage\n",
    "from mne import create_info\n",
    "from mne.io import RawArray\n",
    "\n",
    "from mne.preprocessing import create_eog_epochs, ICA\n",
    "from mne import Epochs, pick_types"
   ]
  },
  {
   "cell_type": "code",
   "execution_count": 16,
   "metadata": {},
   "outputs": [
    {
     "name": "stdout",
     "output_type": "stream",
     "text": [
      "Extracting EDF parameters from D:/Datasets/ULM/S01_ME/motorexecution_subject1_run1.gdf...\n",
      "GDF file detected\n",
      "Overlapping events detected. Use find_edf_events for the original events.\n",
      "Setting channel info structure...\n",
      "Interpolating stim channel. Events may jitter.\n",
      "Creating raw.info structure...\n",
      "3 channel names are too long, have been truncated to 15 characters:\n",
      "['ShoulderAdductio', 'ShoulderFlexionE', 'ShoulderRotation']\n",
      "Channel names are not unique, found duplicates for: {'eeg'}. Applying running numbers for duplicates.\n",
      "Reading 0 ... 164863  =      0.000 ...   321.998 secs...\n"
     ]
    },
    {
     "name": "stderr",
     "output_type": "stream",
     "text": [
      "C:\\Users\\mschr\\AppData\\Local\\conda\\conda\\envs\\mne\\lib\\site-packages\\mne\\io\\edf\\edf.py:1028: DeprecationWarning: The binary mode of fromstring is deprecated, as it behaves surprisingly on unicode inputs. Use frombuffer instead\n",
      "  etmode = np.fromstring(etmode, np.uint8).tolist()[0]\n",
      "<ipython-input-16-5c9b9608f1e0>:3: RuntimeWarning: Overlapping events detected. Use find_edf_events for the original events.\n",
      "  raw = mne.io.read_raw_edf(file_location, preload= True)\n",
      "<ipython-input-16-5c9b9608f1e0>:3: RuntimeWarning: Interpolating stim channel. Events may jitter.\n",
      "  raw = mne.io.read_raw_edf(file_location, preload= True)\n",
      "<ipython-input-16-5c9b9608f1e0>:3: RuntimeWarning: 3 channel names are too long, have been truncated to 15 characters:\n",
      "['ShoulderAdductio', 'ShoulderFlexionE', 'ShoulderRotation']\n",
      "  raw = mne.io.read_raw_edf(file_location, preload= True)\n",
      "<ipython-input-16-5c9b9608f1e0>:3: RuntimeWarning: Channel names are not unique, found duplicates for: {'eeg'}. Applying running numbers for duplicates.\n",
      "  raw = mne.io.read_raw_edf(file_location, preload= True)\n"
     ]
    }
   ],
   "source": [
    "subject, trial = 1,1\n",
    "file_location = 'D:/Datasets/ULM/S%02d_ME/motorexecution_subject%d_run%d.gdf' % (subject, subject, trial)\n",
    "raw = mne.io.read_raw_edf(file_location, preload= True)"
   ]
  },
  {
   "cell_type": "markdown",
   "metadata": {},
   "source": [
    "From running these commands we see that there are error and indicate a solution to a possibly juttering events. Also, some of the names packaged with the data are in fact too long. Lastly, there are many \"eeg\" trials so it has no choice but to label them \"eeg_\" where _ is from 0 to 61. Let's fix these errors."
   ]
  },
  {
   "cell_type": "code",
   "execution_count": 6,
   "metadata": {},
   "outputs": [],
   "source": [
    "events = mne.io.find_edf_events(raw)"
   ]
  },
  {
   "cell_type": "code",
   "execution_count": 11,
   "metadata": {
    "scrolled": true
   },
   "outputs": [
    {
     "data": {
      "text/plain": [
       "[294, array([  2560,   2560,   2560,   3584,   5120,   5120,   5120,   6187,\n",
       "          6187,   6187,   7211,   8747,   8747,   8747,  10122,  10122,\n",
       "         10122,  11146,  12682,  12682,  12682,  13902,  13902,  13902,\n",
       "         14926,  16462,  16462,  16462,  17568,  17568,  17568,  18592,\n",
       "         20128,  20128,  20128,  21299,  21299,  21299,  22323,  23859,\n",
       "         23859,  23859,  24900,  24900,  24900,  25924,  27460,  27460,\n",
       "         27460,  28606,  28606,  28606,  29630,  31166,  31166,  31166,\n",
       "         32194,  32194,  32194,  33218,  34754,  34754,  34754,  35817,\n",
       "         35817,  35817,  36841,  38377,  38377,  38377,  39810,  39810,\n",
       "         39810,  40834,  42370,  42370,  42370,  43901,  43901,  43901,\n",
       "         44925,  46461,  46461,  46461,  47702,  47702,  47702,  48726,\n",
       "         50262,  50262,  50262,  51318,  51318,  51318,  52342,  53878,\n",
       "         53878,  53878,  55261,  55261,  55261,  56285,  57821,  57821,\n",
       "         57821,  58972,  58972,  58972,  59996,  61532,  61532,  61532,\n",
       "         62774,  62774,  62774,  63798,  65334,  65334,  65334,  66695,\n",
       "         66695,  66695,  67719,  69255,  69255,  69255,  70303,  70303,\n",
       "         70303,  71327,  72863,  72863,  72863,  74306,  74306,  74306,\n",
       "         75330,  76866,  76866,  76866,  78024,  78024,  78024,  79048,\n",
       "         80584,  80584,  80584,  81793,  81793,  81793,  82817,  84353,\n",
       "         84353,  84353,  85505,  85505,  85505,  86529,  88065,  88065,\n",
       "         88065,  89345,  89345,  89345,  90369,  91905,  91905,  91905,\n",
       "         93311,  93311,  93311,  94335,  95871,  95871,  95871,  97224,\n",
       "         97224,  97224,  98248,  99784,  99784,  99784, 101214, 101214,\n",
       "        101214, 102238, 103774, 103774, 103774, 104817, 104817, 104817,\n",
       "        105841, 107377, 107377, 107377, 108651, 108651, 108651, 109675,\n",
       "        111211, 111211, 111211, 112328, 112328, 112328, 113352, 114888,\n",
       "        114888, 114888, 116028, 116028, 116028, 117052, 118588, 118588,\n",
       "        118588, 119800, 119800, 119800, 120824, 122360, 122360, 122360,\n",
       "        123487, 123487, 123487, 124511, 126047, 126047, 126047, 127256,\n",
       "        127256, 127256, 128280, 129816, 129816, 129816, 131322, 131322,\n",
       "        131322, 132346, 133882, 133882, 133882, 135004, 135004, 135004,\n",
       "        136028, 137564, 137564, 137564, 138978, 138978, 138978, 140002,\n",
       "        141538, 141538, 141538, 143029, 143029, 143029, 144053, 145589,\n",
       "        145589, 145589, 147055, 147055, 147055, 148079, 149615, 149615,\n",
       "        149615, 150809, 150809, 150809, 151833, 153369, 153369, 153369,\n",
       "        154691, 154691, 154691, 155715, 157251, 157251, 157251, 158420,\n",
       "        158420, 158420, 159444, 160980, 160980, 160980], dtype=uint32), array([  768,   785,   786,  1537, 33536, 33554, 34305,   768,   785,\n",
       "          786,  1541, 33536, 33554, 34309,   768,   785,   786,  1542,\n",
       "        33536, 33554, 34310,   768,   785,   786,  1542, 33536, 33554,\n",
       "        34310,   768,   785,   786,  1537, 33536, 33554, 34305,   768,\n",
       "          785,   786,  1536, 33536, 33554, 34304,   768,   785,   786,\n",
       "         1536, 33536, 33554, 34304,   768,   785,   786,  1538, 33536,\n",
       "        33554, 34306,   768,   785,   786,  1540, 33536, 33554, 34308,\n",
       "          768,   785,   786,  1542, 33536, 33554, 34310,   768,   785,\n",
       "          786,  1540, 33536, 33554, 34308,   768,   785,   786,  1539,\n",
       "        33536, 33554, 34307,   768,   785,   786,  1540, 33536, 33554,\n",
       "        34308,   768,   785,   786,  1537, 33536, 33554, 34305,   768,\n",
       "          785,   786,  1537, 33536, 33554, 34305,   768,   785,   786,\n",
       "         1541, 33536, 33554, 34309,   768,   785,   786,  1539, 33536,\n",
       "        33554, 34307,   768,   785,   786,  1542, 33536, 33554, 34310,\n",
       "          768,   785,   786,  1541, 33536, 33554, 34309,   768,   785,\n",
       "          786,  1538, 33536, 33554, 34306,   768,   785,   786,  1542,\n",
       "        33536, 33554, 34310,   768,   785,   786,  1536, 33536, 33554,\n",
       "        34304,   768,   785,   786,  1542, 33536, 33554, 34310,   768,\n",
       "          785,   786,  1541, 33536, 33554, 34309,   768,   785,   786,\n",
       "         1538, 33536, 33554, 34306,   768,   785,   786,  1539, 33536,\n",
       "        33554, 34307,   768,   785,   786,  1536, 33536, 33554, 34304,\n",
       "          768,   785,   786,  1537, 33536, 33554, 34305,   768,   785,\n",
       "          786,  1540, 33536, 33554, 34308,   768,   785,   786,  1536,\n",
       "        33536, 33554, 34304,   768,   785,   786,  1537, 33536, 33554,\n",
       "        34305,   768,   785,   786,  1538, 33536, 33554, 34306,   768,\n",
       "          785,   786,  1538, 33536, 33554, 34306,   768,   785,   786,\n",
       "         1539, 33536, 33554, 34307,   768,   785,   786,  1541, 33536,\n",
       "        33554, 34309,   768,   785,   786,  1541, 33536, 33554, 34309,\n",
       "          768,   785,   786,  1540, 33536, 33554, 34308,   768,   785,\n",
       "          786,  1538, 33536, 33554, 34306,   768,   785,   786,  1540,\n",
       "        33536, 33554, 34308,   768,   785,   786,  1536, 33536, 33554,\n",
       "        34304,   768,   785,   786,  1539, 33536, 33554, 34307,   768,\n",
       "          785,   786,  1539, 33536, 33554, 34307], dtype=uint16), array([0, 0, 0, 0, 0, 0, 0, 0, 0, 0, 0, 0, 0, 0, 0, 0, 0, 0, 0, 0, 0, 0,\n",
       "        0, 0, 0, 0, 0, 0, 0, 0, 0, 0, 0, 0, 0, 0, 0, 0, 0, 0, 0, 0, 0, 0,\n",
       "        0, 0, 0, 0, 0, 0, 0, 0, 0, 0, 0, 0, 0, 0, 0, 0, 0, 0, 0, 0, 0, 0,\n",
       "        0, 0, 0, 0, 0, 0, 0, 0, 0, 0, 0, 0, 0, 0, 0, 0, 0, 0, 0, 0, 0, 0,\n",
       "        0, 0, 0, 0, 0, 0, 0, 0, 0, 0, 0, 0, 0, 0, 0, 0, 0, 0, 0, 0, 0, 0,\n",
       "        0, 0, 0, 0, 0, 0, 0, 0, 0, 0, 0, 0, 0, 0, 0, 0, 0, 0, 0, 0, 0, 0,\n",
       "        0, 0, 0, 0, 0, 0, 0, 0, 0, 0, 0, 0, 0, 0, 0, 0, 0, 0, 0, 0, 0, 0,\n",
       "        0, 0, 0, 0, 0, 0, 0, 0, 0, 0, 0, 0, 0, 0, 0, 0, 0, 0, 0, 0, 0, 0,\n",
       "        0, 0, 0, 0, 0, 0, 0, 0, 0, 0, 0, 0, 0, 0, 0, 0, 0, 0, 0, 0, 0, 0,\n",
       "        0, 0, 0, 0, 0, 0, 0, 0, 0, 0, 0, 0, 0, 0, 0, 0, 0, 0, 0, 0, 0, 0,\n",
       "        0, 0, 0, 0, 0, 0, 0, 0, 0, 0, 0, 0, 0, 0, 0, 0, 0, 0, 0, 0, 0, 0,\n",
       "        0, 0, 0, 0, 0, 0, 0, 0, 0, 0, 0, 0, 0, 0, 0, 0, 0, 0, 0, 0, 0, 0,\n",
       "        0, 0, 0, 0, 0, 0, 0, 0, 0, 0, 0, 0, 0, 0, 0, 0, 0, 0, 0, 0, 0, 0,\n",
       "        0, 0, 0, 0, 0, 0, 0, 0], dtype=uint32), array([1, 1, 1, 1, 1, 1, 1, 1, 1, 1, 1, 1, 1, 1, 1, 1, 1, 1, 1, 1, 1, 1,\n",
       "        1, 1, 1, 1, 1, 1, 1, 1, 1, 1, 1, 1, 1, 1, 1, 1, 1, 1, 1, 1, 1, 1,\n",
       "        1, 1, 1, 1, 1, 1, 1, 1, 1, 1, 1, 1, 1, 1, 1, 1, 1, 1, 1, 1, 1, 1,\n",
       "        1, 1, 1, 1, 1, 1, 1, 1, 1, 1, 1, 1, 1, 1, 1, 1, 1, 1, 1, 1, 1, 1,\n",
       "        1, 1, 1, 1, 1, 1, 1, 1, 1, 1, 1, 1, 1, 1, 1, 1, 1, 1, 1, 1, 1, 1,\n",
       "        1, 1, 1, 1, 1, 1, 1, 1, 1, 1, 1, 1, 1, 1, 1, 1, 1, 1, 1, 1, 1, 1,\n",
       "        1, 1, 1, 1, 1, 1, 1, 1, 1, 1, 1, 1, 1, 1, 1, 1, 1, 1, 1, 1, 1, 1,\n",
       "        1, 1, 1, 1, 1, 1, 1, 1, 1, 1, 1, 1, 1, 1, 1, 1, 1, 1, 1, 1, 1, 1,\n",
       "        1, 1, 1, 1, 1, 1, 1, 1, 1, 1, 1, 1, 1, 1, 1, 1, 1, 1, 1, 1, 1, 1,\n",
       "        1, 1, 1, 1, 1, 1, 1, 1, 1, 1, 1, 1, 1, 1, 1, 1, 1, 1, 1, 1, 1, 1,\n",
       "        1, 1, 1, 1, 1, 1, 1, 1, 1, 1, 1, 1, 1, 1, 1, 1, 1, 1, 1, 1, 1, 1,\n",
       "        1, 1, 1, 1, 1, 1, 1, 1, 1, 1, 1, 1, 1, 1, 1, 1, 1, 1, 1, 1, 1, 1,\n",
       "        1, 1, 1, 1, 1, 1, 1, 1, 1, 1, 1, 1, 1, 1, 1, 1, 1, 1, 1, 1, 1, 1,\n",
       "        1, 1, 1, 1, 1, 1, 1, 1], dtype=uint32)]"
      ]
     },
     "execution_count": 11,
     "metadata": {},
     "output_type": "execute_result"
    }
   ],
   "source": [
    "events"
   ]
  },
  {
   "cell_type": "markdown",
   "metadata": {},
   "source": [
    "According to the documentation, this commond outputs 5 elements in the form of a list. The first element (`events[0]`) is n_events for the number of all events. In this case there are 294 events which in fact appear to have been repeated three times. The second element (`events[1]`) is the start time of all the samples. The third element (`events[2]`) is the type of event, such as 1542 for rest and so on as indicated in the associated pdf that comes with the dataset. The fourth element (`events[3]`) is an array of 0's indicating that the event is for all channels. Lastly, (`events[4]`) indicates the duration of the event and in this case 1/512 Hz. In order to run some of the built-in functions in mne, a raw array needs to be created."
   ]
  },
  {
   "cell_type": "code",
   "execution_count": 18,
   "metadata": {},
   "outputs": [],
   "source": [
    "eeg_names = [\"F3\", \"F1\", \"Fz\", \"F2\", \"F4\", \"FFC5h\", \"FFC3h\", \"FFC1h\", \"FFC2h\", \"FFC4h\",\n",
    "            \"FFC6h\", \"FC5\", \"FC3\", \"FC1\", \"FCz\", \"FC2\", \"FC4\", \"FC6\", \"FTT7h\", \"FCC5h\",\n",
    "            \"FCC3h\", \"FCC1h\", \"FCC2h\", \"FCC4h\", \"FCC6h\", \"FTT8h\", \"C5\", \"C3\", \"C1\", \"Cz\",\n",
    "            \"C2\", \"C4\", \"C6\", \"TTP7h\", \"CCP5h\", \"CCP3h\", \"CCP1h\", \"CCP2h\", \"CCP4h\", \"CCP6h\",\n",
    "            \"TTP8h\", \"CP5\", \"CP3\", \"CP1\", \"CPz\", \"CP2\", \"CP4\", \"CP6\", \"CPP5h\", \"CPP3h\",\n",
    "            \"CPP1h\", \"CPP2h\", \"CPP4h\", \"CPP6h\", \"P3\", \"P1\", \"Pz\", \"P2\", \"P4\", \"PPO1h\",\n",
    "            \"PPO2h\"]\n",
    "eog_names = [\"eog-r\", \"eog-m\", \"eog-l\"]\n",
    "glove_sensors = [\"thumb_near\", \"thumb_far\", \"thumb_index\", \"index_near\", \"index_far\", \"index_middle\",\n",
    "             \"middle_near\", \"middle_far\", \"middle_ring\", \"ring_near\", \"ring_far\", \"ring_little\", \"litte_near\",\n",
    "                 \"litte_far\", \"thumb_palm\", \"wrist_bend\", \"roll\", \"pitch\", \"gesture\"]\n",
    "exo_sensors = [\"handPosX\", \"handPosY\", \"handPosZ\", \"elbowPosX\", \"elbowPosY\", \"elbowPosZ\", \"ShoulderAdd\",\n",
    "                       \"ShoulderFlex\", \"ShoulderRot\", \"Elbow\", \"ProSupination\", \"Wrist\", \"GripPressure\"]\n",
    "stim_channel = [\"STIM\"]\n",
    "channel_type = ['eeg']*len(eeg_names) + ['eog']*len(eog_names) + ['misc']*len(glove_sensors) + ['stim']*len(exo_sensors) + ['stim']\n",
    "montage = read_montage('standard_1005', eeg_names)\n",
    "channel_names = eeg_names + eog_names + glove_sensors + exo_sensors + stim_channel\n",
    "# Create all data into a RawArray\n",
    "info = create_info(channel_names, sfreq=512.0, ch_types=channel_type, montage=montage)\n",
    "k = raw.get_data()\n",
    "# Seperate k into pandas dataframes of data\n",
    "eeg_data = k[0:61, :]\n",
    "eog_data = k[61:64, :]\n",
    "glove_data = k[64:83, :]\n",
    "exo_data = k[83:96, :]\n",
    "stim_data = k[96:97, :][0]\n",
    "\n",
    "teeg = pd.DataFrame(eeg_data.T, columns=eeg_names)\n",
    "teog = pd.DataFrame(eog_data.T, columns=eog_names)\n",
    "tglove = pd.DataFrame(glove_data.T, columns=glove_sensors)\n",
    "texo = pd.DataFrame(exo_data.T, columns=exo_sensors)\n",
    "tstim = pd.DataFrame(stim_data.T, columns=stim_channel)\n",
    "t_df = pd.concat([teeg.reset_index(drop=True), teog, tglove, texo, tstim], axis=1)\n",
    "j = t_df.dropna()\n",
    "raw = RawArray(j.T, info, verbose=False).load_data()"
   ]
  },
  {
   "cell_type": "code",
   "execution_count": 19,
   "metadata": {},
   "outputs": [
    {
     "name": "stdout",
     "output_type": "stream",
     "text": [
      "126 events found\n",
      "Event IDs: [  1536   1537   1538   1539   1540   1541   1542   2339 101394 101395\n",
      " 101396 101397 101398 101399 101400]\n"
     ]
    }
   ],
   "source": [
    "found_events = mne.find_events(raw.copy().pick_channels([\"STIM\"]))"
   ]
  },
  {
   "cell_type": "code",
   "execution_count": 20,
   "metadata": {},
   "outputs": [
    {
     "data": {
      "text/plain": [
       "array([[  2560,      0,   2339],\n",
       "       [  3584,      0,   1537],\n",
       "       [  5120,      0, 101395],\n",
       "       [  6187,      0,   2339],\n",
       "       [  7211,      0,   1541],\n",
       "       [  8747,      0, 101399],\n",
       "       [ 10122,      0,   2339],\n",
       "       [ 11146,      0,   1542],\n",
       "       [ 12682,      0, 101400],\n",
       "       [ 13902,      0,   2339],\n",
       "       [ 14926,      0,   1542],\n",
       "       [ 16462,      0, 101400],\n",
       "       [ 17568,      0,   2339],\n",
       "       [ 18592,      0,   1537],\n",
       "       [ 20128,      0, 101395],\n",
       "       [ 21299,      0,   2339],\n",
       "       [ 22323,      0,   1536],\n",
       "       [ 23859,      0, 101394],\n",
       "       [ 24900,      0,   2339],\n",
       "       [ 25924,      0,   1536],\n",
       "       [ 27460,      0, 101394],\n",
       "       [ 28606,      0,   2339],\n",
       "       [ 29630,      0,   1538],\n",
       "       [ 31166,      0, 101396],\n",
       "       [ 32194,      0,   2339],\n",
       "       [ 33218,      0,   1540],\n",
       "       [ 34754,      0, 101398],\n",
       "       [ 35817,      0,   2339],\n",
       "       [ 36841,      0,   1542],\n",
       "       [ 38377,      0, 101400],\n",
       "       [ 39810,      0,   2339],\n",
       "       [ 40834,      0,   1540],\n",
       "       [ 42370,      0, 101398],\n",
       "       [ 43901,      0,   2339],\n",
       "       [ 44925,      0,   1539],\n",
       "       [ 46461,      0, 101397],\n",
       "       [ 47702,      0,   2339],\n",
       "       [ 48726,      0,   1540],\n",
       "       [ 50262,      0, 101398],\n",
       "       [ 51318,      0,   2339],\n",
       "       [ 52342,      0,   1537],\n",
       "       [ 53878,      0, 101395],\n",
       "       [ 55261,      0,   2339],\n",
       "       [ 56285,      0,   1537],\n",
       "       [ 57821,      0, 101395],\n",
       "       [ 58972,      0,   2339],\n",
       "       [ 59996,      0,   1541],\n",
       "       [ 61532,      0, 101399],\n",
       "       [ 62774,      0,   2339],\n",
       "       [ 63798,      0,   1539],\n",
       "       [ 65334,      0, 101397],\n",
       "       [ 66695,      0,   2339],\n",
       "       [ 67719,      0,   1542],\n",
       "       [ 69255,      0, 101400],\n",
       "       [ 70303,      0,   2339],\n",
       "       [ 71327,      0,   1541],\n",
       "       [ 72863,      0, 101399],\n",
       "       [ 74306,      0,   2339],\n",
       "       [ 75330,      0,   1538],\n",
       "       [ 76866,      0, 101396],\n",
       "       [ 78024,      0,   2339],\n",
       "       [ 79048,      0,   1542],\n",
       "       [ 80584,      0, 101400],\n",
       "       [ 81793,      0,   2339],\n",
       "       [ 82817,      0,   1536],\n",
       "       [ 84353,      0, 101394],\n",
       "       [ 85505,      0,   2339],\n",
       "       [ 86529,      0,   1542],\n",
       "       [ 88065,      0, 101400],\n",
       "       [ 89345,      0,   2339],\n",
       "       [ 90369,      0,   1541],\n",
       "       [ 91905,      0, 101399],\n",
       "       [ 93311,      0,   2339],\n",
       "       [ 94335,      0,   1538],\n",
       "       [ 95871,      0, 101396],\n",
       "       [ 97224,      0,   2339],\n",
       "       [ 98248,      0,   1539],\n",
       "       [ 99784,      0, 101397],\n",
       "       [101214,      0,   2339],\n",
       "       [102238,      0,   1536],\n",
       "       [103774,      0, 101394],\n",
       "       [104817,      0,   2339],\n",
       "       [105841,      0,   1537],\n",
       "       [107377,      0, 101395],\n",
       "       [108651,      0,   2339],\n",
       "       [109675,      0,   1540],\n",
       "       [111211,      0, 101398],\n",
       "       [112328,      0,   2339],\n",
       "       [113352,      0,   1536],\n",
       "       [114888,      0, 101394],\n",
       "       [116028,      0,   2339],\n",
       "       [117052,      0,   1537],\n",
       "       [118588,      0, 101395],\n",
       "       [119800,      0,   2339],\n",
       "       [120824,      0,   1538],\n",
       "       [122360,      0, 101396],\n",
       "       [123487,      0,   2339],\n",
       "       [124511,      0,   1538],\n",
       "       [126047,      0, 101396],\n",
       "       [127256,      0,   2339],\n",
       "       [128280,      0,   1539],\n",
       "       [129816,      0, 101397],\n",
       "       [131322,      0,   2339],\n",
       "       [132346,      0,   1541],\n",
       "       [133882,      0, 101399],\n",
       "       [135004,      0,   2339],\n",
       "       [136028,      0,   1541],\n",
       "       [137564,      0, 101399],\n",
       "       [138978,      0,   2339],\n",
       "       [140002,      0,   1540],\n",
       "       [141538,      0, 101398],\n",
       "       [143029,      0,   2339],\n",
       "       [144053,      0,   1538],\n",
       "       [145589,      0, 101396],\n",
       "       [147055,      0,   2339],\n",
       "       [148079,      0,   1540],\n",
       "       [149615,      0, 101398],\n",
       "       [150809,      0,   2339],\n",
       "       [151833,      0,   1536],\n",
       "       [153369,      0, 101394],\n",
       "       [154691,      0,   2339],\n",
       "       [155715,      0,   1539],\n",
       "       [157251,      0, 101397],\n",
       "       [158420,      0,   2339],\n",
       "       [159444,      0,   1539],\n",
       "       [160980,      0, 101397]], dtype=int64)"
      ]
     },
     "execution_count": 20,
     "metadata": {},
     "output_type": "execute_result"
    }
   ],
   "source": [
    "found_events"
   ]
  },
  {
   "cell_type": "markdown",
   "metadata": {},
   "source": [
    "When using the `mne.find_events` function, it takes the events listed earlier and condenses all the events into a more simplified array. For example in the first event starting at 2560, the stim codes show `768+785+786` which when added is 2339. This indicates that start of trials. Let's plot the codes in time to see if we can understand the true meaning of these codes. When looking into the unique codes, it can be shown that there are 7 events starting with `15**` and 7 events starting with `34***`. The remaining 2 events starting with `33***` always proceed the `34***` codes. "
   ]
  },
  {
   "cell_type": "code",
   "execution_count": 46,
   "metadata": {},
   "outputs": [
    {
     "data": {
      "text/plain": [
       "[<matplotlib.lines.Line2D at 0x20e395a5438>]"
      ]
     },
     "execution_count": 46,
     "metadata": {},
     "output_type": "execute_result"
    },
    {
     "data": {
      "image/png": "[encoded data removed]",
      "text/plain": [
       "<Figure size 432x288 with 1 Axes>"
      ]
     },
     "metadata": {},
     "output_type": "display_data"
    }
   ],
   "source": [
    "np_events = np.array(events[1:3])\n",
    "import matplotlib.pyplot as plt\n",
    "x = np_events[0, :]\n",
    "y = np_events[1,:]\n",
    "plt.plot(x,y)"
   ]
  },
  {
   "cell_type": "code",
   "execution_count": 52,
   "metadata": {},
   "outputs": [],
   "source": [
    "unique_times = np.unique(np_events[0,:])"
   ]
  },
  {
   "cell_type": "code",
   "execution_count": 53,
   "metadata": {},
   "outputs": [
    {
     "data": {
      "text/plain": [
       "array([  2560,   3584,   5120,   6187,   7211,   8747,  10122,  11146,\n",
       "        12682,  13902,  14926,  16462,  17568,  18592,  20128,  21299,\n",
       "        22323,  23859,  24900,  25924,  27460,  28606,  29630,  31166,\n",
       "        32194,  33218,  34754,  35817,  36841,  38377,  39810,  40834,\n",
       "        42370,  43901,  44925,  46461,  47702,  48726,  50262,  51318,\n",
       "        52342,  53878,  55261,  56285,  57821,  58972,  59996,  61532,\n",
       "        62774,  63798,  65334,  66695,  67719,  69255,  70303,  71327,\n",
       "        72863,  74306,  75330,  76866,  78024,  79048,  80584,  81793,\n",
       "        82817,  84353,  85505,  86529,  88065,  89345,  90369,  91905,\n",
       "        93311,  94335,  95871,  97224,  98248,  99784, 101214, 102238,\n",
       "       103774, 104817, 105841, 107377, 108651, 109675, 111211, 112328,\n",
       "       113352, 114888, 116028, 117052, 118588, 119800, 120824, 122360,\n",
       "       123487, 124511, 126047, 127256, 128280, 129816, 131322, 132346,\n",
       "       133882, 135004, 136028, 137564, 138978, 140002, 141538, 143029,\n",
       "       144053, 145589, 147055, 148079, 149615, 150809, 151833, 153369,\n",
       "       154691, 155715, 157251, 158420, 159444, 160980], dtype=uint32)"
      ]
     },
     "execution_count": 53,
     "metadata": {},
     "output_type": "execute_result"
    }
   ],
   "source": [
    "unique_times"
   ]
  },
  {
   "cell_type": "code",
   "execution_count": 40,
   "metadata": {},
   "outputs": [],
   "source": [
    "unique_codes = np.unique(np_events[1,:])"
   ]
  },
  {
   "cell_type": "code",
   "execution_count": 41,
   "metadata": {},
   "outputs": [
    {
     "data": {
      "text/plain": [
       "array([  768,   785,   786,  1536,  1537,  1538,  1539,  1540,  1541,\n",
       "        1542, 33536, 33554, 34304, 34305, 34306, 34307, 34308, 34309,\n",
       "       34310], dtype=uint32)"
      ]
     },
     "execution_count": 41,
     "metadata": {},
     "output_type": "execute_result"
    }
   ],
   "source": [
    "unique_codes"
   ]
  },
  {
   "cell_type": "markdown",
   "metadata": {},
   "source": [
    "With all this in mind, the overlapping events do exist in the data, however the simpler functions takes care of the problem well enough to not need to recreate another function. We can also confirm that events found using `mne.find_events` and those with unique times are equivalent and no actions are needed. While an error level can be set to not visual see this, it is poor practice to not show the error. In this case, `mne.find_events` will work fine for the data. "
   ]
  },
  {
   "cell_type": "code",
   "execution_count": 56,
   "metadata": {},
   "outputs": [
    {
     "data": {
      "text/plain": [
       "True"
      ]
     },
     "execution_count": 56,
     "metadata": {},
     "output_type": "execute_result"
    }
   ],
   "source": [
    "len(unique_times) == len(found_events[:,0])"
   ]
  }
 ],
 "metadata": {
  "kernelspec": {
   "display_name": "Python [conda env:mne]",
   "language": "python",
   "name": "conda-env-mne-py"
  },
  "language_info": {
   "codemirror_mode": {
    "name": "ipython",
    "version": 3
   },
   "file_extension": ".py",
   "mimetype": "text/x-python",
   "name": "python",
   "nbconvert_exporter": "python",
   "pygments_lexer": "ipython3",
   "version": "3.6.5"
  }
 },
 "nbformat": 4,
 "nbformat_minor": 2
}
